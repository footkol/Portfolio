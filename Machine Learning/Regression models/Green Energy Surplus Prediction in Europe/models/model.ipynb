{
 "cells": [
  {
   "cell_type": "code",
   "execution_count": 1,
   "id": "6d61e4a4-c687-420d-a035-659d31ccfc51",
   "metadata": {},
   "outputs": [],
   "source": [
    "import numpy as np\n",
    "import pandas as pd\n",
    "import json\n",
    "from matplotlib import pyplot as plt\n",
    "from matplotlib.dates import MonthLocator, DateFormatter\n",
    "\n",
    "from statsmodels.tsa.stattools import adfuller\n",
    "from statsmodels.tsa.seasonal import seasonal_decompose\n",
    "from statsmodels.tsa.arima.model import ARIMA\n",
    "from pandas.plotting import register_matplotlib_converters\n",
    "register_matplotlib_converters()\n",
    "from sklearn.metrics import mean_absolute_error\n",
    "\n",
    "from sklearn.metrics import mean_absolute_error\n",
    "from sklearn.metrics import mean_squared_error\n",
    "from math import sqrt\n",
    "\n",
    "import itertools\n",
    "import warnings\n",
    "warnings.filterwarnings(\"ignore\")"
   ]
  },
  {
   "cell_type": "code",
   "execution_count": 2,
   "id": "c1b3a7f2-0b9f-41a7-8c2d-9fd5610b6314",
   "metadata": {},
   "outputs": [
    {
     "data": {
      "text/html": [
       "<div>\n",
       "<style scoped>\n",
       "    .dataframe tbody tr th:only-of-type {\n",
       "        vertical-align: middle;\n",
       "    }\n",
       "\n",
       "    .dataframe tbody tr th {\n",
       "        vertical-align: top;\n",
       "    }\n",
       "\n",
       "    .dataframe thead th {\n",
       "        text-align: right;\n",
       "    }\n",
       "</style>\n",
       "<table border=\"1\" class=\"dataframe\">\n",
       "  <thead>\n",
       "    <tr style=\"text-align: right;\">\n",
       "      <th></th>\n",
       "      <th>green_energy_SP</th>\n",
       "      <th>SP_Load</th>\n",
       "      <th>green_energy_UK</th>\n",
       "      <th>UK_Load</th>\n",
       "      <th>green_energy_DE</th>\n",
       "      <th>DE_Load</th>\n",
       "      <th>green_energy_DK</th>\n",
       "      <th>DK_Load</th>\n",
       "      <th>green_energy_SE</th>\n",
       "      <th>SE_Load</th>\n",
       "      <th>green_energy_HU</th>\n",
       "      <th>HU_Load</th>\n",
       "      <th>green_energy_IT</th>\n",
       "      <th>IT_Load</th>\n",
       "      <th>green_energy_PO</th>\n",
       "      <th>PO_Load</th>\n",
       "      <th>green_energy_NE</th>\n",
       "      <th>NE_Load</th>\n",
       "      <th>label</th>\n",
       "    </tr>\n",
       "    <tr>\n",
       "      <th>StartTime</th>\n",
       "      <th></th>\n",
       "      <th></th>\n",
       "      <th></th>\n",
       "      <th></th>\n",
       "      <th></th>\n",
       "      <th></th>\n",
       "      <th></th>\n",
       "      <th></th>\n",
       "      <th></th>\n",
       "      <th></th>\n",
       "      <th></th>\n",
       "      <th></th>\n",
       "      <th></th>\n",
       "      <th></th>\n",
       "      <th></th>\n",
       "      <th></th>\n",
       "      <th></th>\n",
       "      <th></th>\n",
       "      <th></th>\n",
       "    </tr>\n",
       "  </thead>\n",
       "  <tbody>\n",
       "    <tr>\n",
       "      <th>2021-12-31 23:00:00</th>\n",
       "      <td>11244.0</td>\n",
       "      <td>20827.0</td>\n",
       "      <td>0.0</td>\n",
       "      <td>1244.0</td>\n",
       "      <td>157373.0</td>\n",
       "      <td>165125.0</td>\n",
       "      <td>3652.0</td>\n",
       "      <td>3314.0</td>\n",
       "      <td>11060.0</td>\n",
       "      <td>15331.0</td>\n",
       "      <td>1376.0</td>\n",
       "      <td>16457.0</td>\n",
       "      <td>5801.0</td>\n",
       "      <td>21121.0</td>\n",
       "      <td>4641.0</td>\n",
       "      <td>14438.0</td>\n",
       "      <td>12768.0</td>\n",
       "      <td>40706.0</td>\n",
       "      <td>3</td>\n",
       "    </tr>\n",
       "    <tr>\n",
       "      <th>2022-01-01 00:00:00</th>\n",
       "      <td>10827.0</td>\n",
       "      <td>19530.0</td>\n",
       "      <td>0.0</td>\n",
       "      <td>1244.0</td>\n",
       "      <td>157373.0</td>\n",
       "      <td>165125.0</td>\n",
       "      <td>3605.0</td>\n",
       "      <td>3218.0</td>\n",
       "      <td>11107.0</td>\n",
       "      <td>15331.0</td>\n",
       "      <td>1376.0</td>\n",
       "      <td>16457.0</td>\n",
       "      <td>5745.0</td>\n",
       "      <td>19756.0</td>\n",
       "      <td>4491.0</td>\n",
       "      <td>13935.0</td>\n",
       "      <td>12768.0</td>\n",
       "      <td>40706.0</td>\n",
       "      <td>3</td>\n",
       "    </tr>\n",
       "    <tr>\n",
       "      <th>2022-01-01 01:00:00</th>\n",
       "      <td>11140.0</td>\n",
       "      <td>18383.0</td>\n",
       "      <td>0.0</td>\n",
       "      <td>1131.0</td>\n",
       "      <td>151747.0</td>\n",
       "      <td>160415.0</td>\n",
       "      <td>3309.0</td>\n",
       "      <td>3126.0</td>\n",
       "      <td>11036.0</td>\n",
       "      <td>15270.0</td>\n",
       "      <td>1526.0</td>\n",
       "      <td>15426.0</td>\n",
       "      <td>6228.0</td>\n",
       "      <td>18685.0</td>\n",
       "      <td>4436.0</td>\n",
       "      <td>13579.0</td>\n",
       "      <td>11131.0</td>\n",
       "      <td>39465.0</td>\n",
       "      <td>3</td>\n",
       "    </tr>\n",
       "    <tr>\n",
       "      <th>2022-01-01 02:00:00</th>\n",
       "      <td>11361.0</td>\n",
       "      <td>17680.0</td>\n",
       "      <td>0.0</td>\n",
       "      <td>1091.0</td>\n",
       "      <td>147938.0</td>\n",
       "      <td>158035.0</td>\n",
       "      <td>3043.0</td>\n",
       "      <td>3080.0</td>\n",
       "      <td>10509.0</td>\n",
       "      <td>15150.0</td>\n",
       "      <td>1560.0</td>\n",
       "      <td>14781.0</td>\n",
       "      <td>6407.0</td>\n",
       "      <td>18124.0</td>\n",
       "      <td>4568.0</td>\n",
       "      <td>13397.0</td>\n",
       "      <td>11324.0</td>\n",
       "      <td>38923.0</td>\n",
       "      <td>3</td>\n",
       "    </tr>\n",
       "    <tr>\n",
       "      <th>2022-01-01 03:00:00</th>\n",
       "      <td>11247.0</td>\n",
       "      <td>17396.0</td>\n",
       "      <td>0.0</td>\n",
       "      <td>969.0</td>\n",
       "      <td>141816.0</td>\n",
       "      <td>157016.0</td>\n",
       "      <td>2852.0</td>\n",
       "      <td>3044.0</td>\n",
       "      <td>10770.0</td>\n",
       "      <td>15387.0</td>\n",
       "      <td>1287.0</td>\n",
       "      <td>14630.0</td>\n",
       "      <td>5760.0</td>\n",
       "      <td>18400.0</td>\n",
       "      <td>4559.0</td>\n",
       "      <td>13364.0</td>\n",
       "      <td>11290.0</td>\n",
       "      <td>38211.0</td>\n",
       "      <td>3</td>\n",
       "    </tr>\n",
       "  </tbody>\n",
       "</table>\n",
       "</div>"
      ],
      "text/plain": [
       "                     green_energy_SP  SP_Load  green_energy_UK  UK_Load  \\\n",
       "StartTime                                                                 \n",
       "2021-12-31 23:00:00          11244.0  20827.0              0.0   1244.0   \n",
       "2022-01-01 00:00:00          10827.0  19530.0              0.0   1244.0   \n",
       "2022-01-01 01:00:00          11140.0  18383.0              0.0   1131.0   \n",
       "2022-01-01 02:00:00          11361.0  17680.0              0.0   1091.0   \n",
       "2022-01-01 03:00:00          11247.0  17396.0              0.0    969.0   \n",
       "\n",
       "                     green_energy_DE   DE_Load  green_energy_DK  DK_Load  \\\n",
       "StartTime                                                                  \n",
       "2021-12-31 23:00:00         157373.0  165125.0           3652.0   3314.0   \n",
       "2022-01-01 00:00:00         157373.0  165125.0           3605.0   3218.0   \n",
       "2022-01-01 01:00:00         151747.0  160415.0           3309.0   3126.0   \n",
       "2022-01-01 02:00:00         147938.0  158035.0           3043.0   3080.0   \n",
       "2022-01-01 03:00:00         141816.0  157016.0           2852.0   3044.0   \n",
       "\n",
       "                     green_energy_SE  SE_Load  green_energy_HU  HU_Load  \\\n",
       "StartTime                                                                 \n",
       "2021-12-31 23:00:00          11060.0  15331.0           1376.0  16457.0   \n",
       "2022-01-01 00:00:00          11107.0  15331.0           1376.0  16457.0   \n",
       "2022-01-01 01:00:00          11036.0  15270.0           1526.0  15426.0   \n",
       "2022-01-01 02:00:00          10509.0  15150.0           1560.0  14781.0   \n",
       "2022-01-01 03:00:00          10770.0  15387.0           1287.0  14630.0   \n",
       "\n",
       "                     green_energy_IT  IT_Load  green_energy_PO  PO_Load  \\\n",
       "StartTime                                                                 \n",
       "2021-12-31 23:00:00           5801.0  21121.0           4641.0  14438.0   \n",
       "2022-01-01 00:00:00           5745.0  19756.0           4491.0  13935.0   \n",
       "2022-01-01 01:00:00           6228.0  18685.0           4436.0  13579.0   \n",
       "2022-01-01 02:00:00           6407.0  18124.0           4568.0  13397.0   \n",
       "2022-01-01 03:00:00           5760.0  18400.0           4559.0  13364.0   \n",
       "\n",
       "                     green_energy_NE  NE_Load  label  \n",
       "StartTime                                             \n",
       "2021-12-31 23:00:00          12768.0  40706.0      3  \n",
       "2022-01-01 00:00:00          12768.0  40706.0      3  \n",
       "2022-01-01 01:00:00          11131.0  39465.0      3  \n",
       "2022-01-01 02:00:00          11324.0  38923.0      3  \n",
       "2022-01-01 03:00:00          11290.0  38211.0      3  "
      ]
     },
     "execution_count": 2,
     "metadata": {},
     "output_type": "execute_result"
    }
   ],
   "source": [
    "df = pd.read_csv('data/final_data.csv', parse_dates=['StartTime'], index_col='StartTime')\n",
    "df.head()"
   ]
  },
  {
   "cell_type": "code",
   "execution_count": 3,
   "id": "71c68993-490e-4b46-bb59-6e97178a4afe",
   "metadata": {},
   "outputs": [
    {
     "data": {
      "image/png": "[encoded data removed]",
      "text/plain": [
       "<Figure size 1000x600 with 2 Axes>"
      ]
     },
     "metadata": {},
     "output_type": "display_data"
    }
   ],
   "source": [
    "\n",
    "df = df.sort_index()\n",
    "import matplotlib.dates as mdates\n",
    "from matplotlib.ticker import MaxNLocator\n",
    "fig, (ax1, ax2) = plt.subplots(2, 1, sharex=True, figsize=(10, 6))\n",
    "\n",
    "# Scatter plot\n",
    "ax1.scatter(x=df.index, y=df['label'], color='blue', label='Scatter Plot')\n",
    "ax1.set_ylabel('label')\n",
    "ax1.legend()\n",
    "\n",
    "# Line plot\n",
    "ax2.plot(df.index, df['label'], color='green', label='Line Plot')\n",
    "ax2.set_xlabel('StartTime')\n",
    "ax2.set_ylabel('label')\n",
    "ax2.xaxis.set_major_locator(mdates.MonthLocator())\n",
    "ax2.xaxis.set_major_formatter(DateFormatter('%b'))\n",
    "ax2.xaxis.set_major_locator(MaxNLocator(nbins=10)) \n",
    "\n",
    "ax2.legend()\n",
    "\n",
    "plt.tight_layout()\n",
    "plt.show()"
   ]
  },
  {
   "cell_type": "markdown",
   "id": "df9ae8ed-f6d0-46d0-91a1-19d8a9fdf102",
   "metadata": {},
   "source": [
    "The Augmented Dickey-Fuller (ADF) test is a statistical test for stationarity. The test provides an ADF statistic and a p-value. The interpretation of these values is crucial in determining whether your time series data is stationary."
   ]
  },
  {
   "cell_type": "code",
   "execution_count": 4,
   "id": "a102f0fa-cbcc-45d2-8174-4e99d18d3cf3",
   "metadata": {},
   "outputs": [
    {
     "name": "stdout",
     "output_type": "stream",
     "text": [
      "ADF Statistic: -6.9883516865907955\n",
      "p-value: 7.861623388931239e-10\n",
      "Critical Values:\n",
      "\t1%: -3.431099968539641\n",
      "\t5%: -2.86187143613454\n",
      "\t10%: -2.5669464184887825\n"
     ]
    }
   ],
   "source": [
    "result = adfuller(df['label'])\n",
    "print('ADF Statistic: {}'.format(result[0]))\n",
    "print('p-value: {}'.format(result[1]))\n",
    "print('Critical Values:')\n",
    "for key, value in result[4].items():\n",
    "    print('\\t{}: {}'.format(key, value))"
   ]
  },
  {
   "cell_type": "markdown",
   "id": "6e43f343-62b3-4b4c-8af2-88f95bcfcd5f",
   "metadata": {},
   "source": [
    "In our case ADF Statistic < Critical Value and P-Value < 0.05.\n",
    "\n",
    "This is a s\n",
    "Strong evidence to reject the null hypothes, thus t The data is likely stationary."
   ]
  },
  {
   "cell_type": "code",
   "execution_count": 5,
   "id": "ed38f42f-bc83-4206-900c-b09f5c7a5149",
   "metadata": {},
   "outputs": [
    {
     "name": "stdout",
     "output_type": "stream",
     "text": [
      "Length of training set: 5256\n",
      "Length of test set: 1752\n",
      "Length of validation set: 1752\n"
     ]
    }
   ],
   "source": [
    "train_ratio = 0.6  \n",
    "val_ratio = 0.2    \n",
    "test_ratio = 0.2\n",
    "\n",
    "train_split = int(train_ratio * len(df))\n",
    "val_split = int((train_ratio + val_ratio) * len(df))\n",
    "\n",
    "train_set = df['label'].iloc[:train_split]\n",
    "val_set = df['label'].iloc[train_split:val_split]\n",
    "test_set = df['label'].iloc[val_split:]\n",
    "\n",
    "test_set.to_csv('./data/test_set.csv', index=False)\n",
    "\n",
    "print(f\"Length of training set: {len(train_set)}\")\n",
    "print(f\"Length of test set: {len(test_set)}\")\n",
    "print(f\"Length of validation set: {len(val_set)}\")"
   ]
  },
  {
   "cell_type": "code",
   "execution_count": 6,
   "id": "c2dc605d-01e2-4250-b080-da9c0747c199",
   "metadata": {},
   "outputs": [
    {
     "name": "stdout",
     "output_type": "stream",
     "text": [
      "Total length of data frame 8760\n",
      "Training set 5256\n",
      "Training set 1752\n",
      "Sum of train and test sets 7008\n"
     ]
    }
   ],
   "source": [
    "print('Total length of data frame', len(df))\n",
    "print('Training set', len(train_set))\n",
    "print('Training set', len(test_set))\n",
    "print('Sum of train and test sets', len(train_set)+len(test_set))"
   ]
  },
  {
   "cell_type": "markdown",
   "id": "d04b8a2f-18f4-44d2-8661-f0aae3a7c485",
   "metadata": {},
   "source": [
    "Performing a grid search to find the best parameters for tuning an ARIMA model involves systematically testing different combinations of hyperparameters and selecting the set that results in the best model performance. "
   ]
  },
  {
   "cell_type": "code",
   "execution_count": 7,
   "id": "798ed564-0e52-42c4-adc8-13e3803d7d0f",
   "metadata": {},
   "outputs": [],
   "source": [
    "p_values = range(0, 3)  \n",
    "d_values = range(0, 2)  \n",
    "q_values = range(0, 3)  \n",
    "\n",
    "# Creating a list of all possible combinations of p, d, and q\n",
    "parameter_grid = list(itertools.product(p_values, d_values, q_values))\n",
    "\n",
    "best_model_params = None\n",
    "best_mae = float('inf')\n",
    "\n",
    "for params in parameter_grid:\n",
    "    p, d, q = params\n",
    "    model = ARIMA(train_set, order=(p, d, q))\n",
    "    results = model.fit()\n",
    "    \n",
    "    # Making predictions on the validation set\n",
    "    forecast = results.get_forecast(steps=len(val_set))\n",
    "    predicted_values = forecast.predicted_mean\n",
    "    \n",
    "    # Evaluating the model using Mean Absolute Error\n",
    "    mae = mean_absolute_error(test_set, predicted_values)\n",
    "    \n",
    "    # Update the best model if the current one is better\n",
    "    if mae < best_mae:\n",
    "        best_mae = mae\n",
    "        best_model_params = (p, d, q)\n",
    "\n",
    "best_model = ARIMA(train_set, order=best_model_params)\n",
    "best_results = best_model.fit()"
   ]
  },
  {
   "cell_type": "code",
   "execution_count": 8,
   "id": "b05087fc-815f-4f40-81b6-5f8dd7547f3f",
   "metadata": {},
   "outputs": [],
   "source": [
    "best_results.save('./models/model.pkl')"
   ]
  },
  {
   "cell_type": "code",
   "execution_count": 9,
   "id": "5a7b005f-4218-421e-b675-d04739ce0c71",
   "metadata": {},
   "outputs": [
    {
     "name": "stdout",
     "output_type": "stream",
     "text": [
      "                               SARIMAX Results                                \n",
      "==============================================================================\n",
      "Dep. Variable:                  label   No. Observations:                 5256\n",
      "Model:                 ARIMA(2, 1, 2)   Log Likelihood               -4739.124\n",
      "Date:                Tue, 21 Nov 2023   AIC                           9488.248\n",
      "Time:                        03:25:25   BIC                           9521.082\n",
      "Sample:                             0   HQIC                          9499.727\n",
      "                               - 5256                                         \n",
      "Covariance Type:                  opg                                         \n",
      "==============================================================================\n",
      "                 coef    std err          z      P>|z|      [0.025      0.975]\n",
      "------------------------------------------------------------------------------\n",
      "ar.L1          0.5148      0.291      1.771      0.077      -0.055       1.085\n",
      "ar.L2          0.2337      0.228      1.027      0.304      -0.212       0.680\n",
      "ma.L1         -0.7439      0.292     -2.545      0.011      -1.317      -0.171\n",
      "ma.L2         -0.2445      0.289     -0.845      0.398      -0.811       0.322\n",
      "sigma2         0.3554      0.006     62.490      0.000       0.344       0.367\n",
      "===================================================================================\n",
      "Ljung-Box (L1) (Q):                   0.01   Jarque-Bera (JB):             19735.46\n",
      "Prob(Q):                              0.93   Prob(JB):                         0.00\n",
      "Heteroskedasticity (H):               0.94   Skew:                            -0.05\n",
      "Prob(H) (two-sided):                  0.24   Kurtosis:                        12.49\n",
      "===================================================================================\n",
      "\n",
      "Warnings:\n",
      "[1] Covariance matrix calculated using the outer product of gradients (complex-step).\n",
      "Best Mean Absolute Error: 0.5404765967727815\n",
      "Best model parameters are: (1, 1, 1)\n"
     ]
    }
   ],
   "source": [
    "print(results.summary())\n",
    "print('Best Mean Absolute Error:', best_mae)\n",
    "print('Best model parameters are:', best_model_params)"
   ]
  },
  {
   "cell_type": "code",
   "execution_count": 10,
   "id": "26458076-e04c-4cd7-87df-f83cfd6aa7da",
   "metadata": {},
   "outputs": [
    {
     "name": "stdout",
     "output_type": "stream",
     "text": [
      "                     Actual  Predicted\n",
      "StartTime                             \n",
      "2022-10-20 00:00:00       3        4.0\n",
      "2022-10-20 01:00:00       3        4.0\n",
      "2022-10-20 02:00:00       3        4.0\n",
      "2022-10-20 03:00:00       3        4.0\n",
      "2022-10-20 04:00:00       3        4.0\n",
      "...                     ...        ...\n",
      "2022-12-31 19:00:00       3        3.0\n",
      "2022-12-31 20:00:00       2        3.0\n",
      "2022-12-31 21:00:00       2        3.0\n",
      "2022-12-31 22:00:00       2        3.0\n",
      "2022-12-31 23:00:00       2        3.0\n",
      "\n",
      "[1752 rows x 2 columns]\n"
     ]
    }
   ],
   "source": [
    "# Generating predictions and aligning the predicted values with the index of a test set\n",
    "forecast_steps = len(test_set)\n",
    "forecast = results.get_forecast(steps=forecast_steps)\n",
    "predicted_values = forecast.predicted_mean\n",
    "predicted_values.index = test_set.index\n",
    "predicted_values = predicted_values.round()\n",
    "\n",
    "\n",
    "comparison_df = pd.DataFrame({'Actual': test_set, 'Predicted': predicted_values})\n",
    "\n",
    "print(comparison_df)"
   ]
  },
  {
   "cell_type": "code",
   "execution_count": 11,
   "id": "47f93179-c165-4ecc-a684-ac3601458495",
   "metadata": {},
   "outputs": [
    {
     "name": "stdout",
     "output_type": "stream",
     "text": [
      "Mean Absolute Error: 0.1678082191780822\n",
      "Mean Squared Error (MSE): 0.2602739726027397\n",
      "Root Mean Squared Error (RMSE): 0.5101705328640019\n"
     ]
    }
   ],
   "source": [
    "mae = mean_absolute_error(test_set, predicted_values)\n",
    "print(f'Mean Absolute Error: {mae}')\n",
    "\n",
    "mse = mean_squared_error(test_set, predicted_values)\n",
    "print(f\"Mean Squared Error (MSE): {mse}\")\n",
    "\n",
    "rmse = sqrt(mse)\n",
    "print(f\"Root Mean Squared Error (RMSE): {rmse}\")"
   ]
  },
  {
   "cell_type": "code",
   "execution_count": 12,
   "id": "3a057fe5-e07c-4d4c-a2e7-48112fcc7880",
   "metadata": {},
   "outputs": [
    {
     "data": {
      "image/png": "[encoded data removed]",
      "text/plain": [
       "<Figure size 640x480 with 1 Axes>"
      ]
     },
     "metadata": {},
     "output_type": "display_data"
    }
   ],
   "source": [
    "# Plotting the actual vs. predicted values\n",
    "\n",
    "plt.plot(test_set, label='Actual')\n",
    "plt.plot(predicted_values, label='Predicted', linestyle='dashed', color='red')\n",
    "plt.legend()\n",
    "\n",
    "plt.gca().xaxis.set_major_formatter(DateFormatter('%b'))\n",
    "plt.show()"
   ]
  },
  {
   "cell_type": "code",
   "execution_count": 13,
   "id": "3be92323-7dfc-457a-a6f1-20d9039fef27",
   "metadata": {},
   "outputs": [],
   "source": [
    "predicted_values = predicted_values.reset_index(drop=True)\n",
    "predicted_values.to_json('predictions/predictions.json', orient='index')"
   ]
  }
 ],
 "metadata": {
  "kernelspec": {
   "display_name": "Python 3 (ipykernel)",
   "language": "python",
   "name": "python3"
  },
  "language_info": {
   "codemirror_mode": {
    "name": "ipython",
    "version": 3
   },
   "file_extension": ".py",
   "mimetype": "text/x-python",
   "name": "python",
   "nbconvert_exporter": "python",
   "pygments_lexer": "ipython3",
   "version": "3.11.5"
  }
 },
 "nbformat": 4,
 "nbformat_minor": 5
}
