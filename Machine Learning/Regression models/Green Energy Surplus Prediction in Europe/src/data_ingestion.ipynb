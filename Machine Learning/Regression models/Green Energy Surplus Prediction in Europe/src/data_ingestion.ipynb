{
 "cells": [
  {
   "cell_type": "code",
   "execution_count": 8,
   "id": "83554173-faff-457a-861a-523da3610669",
   "metadata": {},
   "outputs": [],
   "source": [
    "import argparse\n",
    "import datetime\n",
    "import pandas as pd\n",
    "from utils import perform_get_request, xml_to_load_dataframe, xml_to_gen_data"
   ]
  },
  {
   "cell_type": "code",
   "execution_count": 11,
   "id": "3aec3c1d-c84f-4a9e-8f9d-363e71418174",
   "metadata": {},
   "outputs": [],
   "source": [
    "def get_load_data_from_entsoe(regions, periodStart='20220101000', periodEnd='202301010000', output_path='./data'):\n",
    "    \n",
    "    # TODO: There is a period range limit of 1 year for this API. Process in 1 year chunks if needed\n",
    "    \n",
    "    # URL of the RESTful API\n",
    "    url = 'https://web-api.tp.entsoe.eu/api'\n",
    "\n",
    "    # General parameters for the API\n",
    "    # Refer to https://transparency.entsoe.eu/content/static_content/Static%20content/web%20api/Guide.html#_documenttype\n",
    "    params = {\n",
    "        'securityToken': '2334f370-0c85-405e-bb90-c022445bd273',\n",
    "        'documentType': 'A65',\n",
    "        'processType': 'A16',\n",
    "        'outBiddingZone_Domain': 'FILL_IN', # used for Load data\n",
    "        'periodStart': periodStart, # in the format YYYYMMDDHHMM\n",
    "        'periodEnd': periodEnd # in the format YYYYMMDDHHMM\n",
    "    }\n",
    "\n",
    "    # Loop through the regions and get data for each region\n",
    "    for region, area_code in regions.items():\n",
    "        print(f'Fetching data for {region}...')\n",
    "        params['outBiddingZone_Domain'] = area_code\n",
    "    \n",
    "        # Use the requests library to get data from the API for the specified time range\n",
    "        response_content = perform_get_request(url, params)\n",
    "\n",
    "        # Response content is a string of XML data\n",
    "        df = xml_to_load_dataframe(response_content)\n",
    "\n",
    "        # Save the DataFrame to a CSV file\n",
    "        output_path = f'../data'\n",
    "\n",
    "        df.to_csv(f'{output_path}/load_{region}.csv', index=False)\n",
    "       \n",
    "    return"
   ]
  },
  {
   "cell_type": "code",
   "execution_count": 13,
   "id": "d44d2693-84e3-45f0-8756-9171377c7793",
   "metadata": {},
   "outputs": [
    {
     "name": "stdout",
     "output_type": "stream",
     "text": [
      "Fetching data for HU...\n",
      "Fetching data for IT...\n",
      "Fetching data for PO...\n",
      "Fetching data for SP...\n",
      "Fetching data for UK...\n",
      "Fetching data for DE...\n",
      "Fetching data for DK...\n",
      "Fetching data for SE...\n",
      "Fetching data for NE...\n"
     ]
    }
   ],
   "source": [
    "regions = {\n",
    "        'HU': '10YHU-MAVIR----U',\n",
    "        'IT': '10YIT-GRTN-----B',\n",
    "        'PO': '10YPL-AREA-----S',\n",
    "        'SP': '10YES-REE------0',\n",
    "        'UK': '10Y1001A1001A92E',\n",
    "        'DE': '10Y1001A1001A83F',\n",
    "        'DK': '10Y1001A1001A65H',\n",
    "        'SE': '10YSE-1--------K',\n",
    "        'NE': '10YNL----------L',\n",
    "    }\n",
    "\n",
    "get_load_data_from_entsoe(regions, periodStart='202201010000', periodEnd='202301010000', output_path='./data')"
   ]
  },
  {
   "cell_type": "code",
   "execution_count": 4,
   "id": "1d615fb2-55fe-4e1d-bba0-3b08788019e4",
   "metadata": {},
   "outputs": [],
   "source": [
    "def get_gen_data_from_entsoe(regions, periodStart='202201010000', periodEnd='202301010000', output_path='./data'):\n",
    "    \n",
    "    # TODO: There is a period range limit of 1 day for this API. Process in 1 day chunks if needed\n",
    "\n",
    "    # URL of the RESTful API\n",
    "    url = 'https://web-api.tp.entsoe.eu/api'\n",
    "\n",
    "    # General parameters for the API\n",
    "    params = {\n",
    "        'securityToken': 'fb81432a-3853-4c30-a105-117c86a433ca',\n",
    "        'documentType': 'A75',\n",
    "        'processType': 'A16',\n",
    "        'outBiddingZone_Domain': 'FILL_IN', # used for Load data\n",
    "        'in_Domain': 'FILL_IN', # used for Generation data\n",
    "        'periodStart': periodStart, # in the format YYYYMMDDHHMM\n",
    "        'periodEnd': periodEnd # in the format YYYYMMDDHHMM\n",
    "    }\n",
    "\n",
    "    # Loop through the regions and get data for each region\n",
    "    for region, area_code in regions.items():\n",
    "        print(f'Fetching data for {region}...')\n",
    "        params['outBiddingZone_Domain'] = area_code\n",
    "        params['in_Domain'] = area_code\n",
    "    \n",
    "        # Use the requests library to get data from the API for the specified time range\n",
    "        response_content = perform_get_request(url, params)\n",
    "\n",
    "        # Response content is a string of XML data\n",
    "        dfs = xml_to_gen_data(response_content)\n",
    "\n",
    "# Concatenate all DataFrames along the rows (axis=0)\n",
    "        combined_df = pd.concat(dfs.values(), ignore_index=True)\n",
    "\n",
    "# Save the combined DataFrame to a CSV file\n",
    "        output_path = '../data'\n",
    "        combined_df.to_csv(f'{output_path}/total_green_{region}.csv', index=False)\n",
    "    return"
   ]
  },
  {
   "cell_type": "code",
   "execution_count": 5,
   "id": "f7f9d2f2-d7f4-4062-8a98-0a56de216d83",
   "metadata": {},
   "outputs": [
    {
     "name": "stdout",
     "output_type": "stream",
     "text": [
      "Fetching data for HU...\n",
      "Fetching data for IT...\n",
      "Fetching data for PO...\n",
      "Fetching data for SP...\n",
      "Fetching data for UK...\n",
      "Fetching data for DE...\n",
      "Fetching data for DK...\n",
      "Fetching data for SE...\n",
      "Fetching data for NE...\n"
     ]
    }
   ],
   "source": [
    "regions = {\n",
    "        'HU': '10YHU-MAVIR----U',\n",
    "        'IT': '10YIT-GRTN-----B',\n",
    "        'PO': '10YPL-AREA-----S',\n",
    "        'SP': '10YES-REE------0',\n",
    "        'UK': '10Y1001A1001A92E',\n",
    "        'DE': '10Y1001A1001A83F',\n",
    "        'DK': '10Y1001A1001A65H',\n",
    "        'SE': '10YSE-1--------K',\n",
    "        'NE': '10YNL----------L',\n",
    "    }\n",
    "\n",
    "get_gen_data_from_entsoe(regions, periodStart='202201010000', periodEnd='202301010000', output_path='./data')"
   ]
  },
  {
   "cell_type": "code",
   "execution_count": null,
   "id": "f899eaeb-56ec-4285-aff4-9348b89f98e0",
   "metadata": {},
   "outputs": [],
   "source": []
  }
 ],
 "metadata": {
  "kernelspec": {
   "display_name": "Python 3 (ipykernel)",
   "language": "python",
   "name": "python3"
  },
  "language_info": {
   "codemirror_mode": {
    "name": "ipython",
    "version": 3
   },
   "file_extension": ".py",
   "mimetype": "text/x-python",
   "name": "python",
   "nbconvert_exporter": "python",
   "pygments_lexer": "ipython3",
   "version": "3.11.5"
  }
 },
 "nbformat": 4,
 "nbformat_minor": 5
}
