{
 "cells": [
  {
   "cell_type": "code",
   "execution_count": 1,
   "id": "4abe3fca-6de4-4e9e-b469-79b6e742056a",
   "metadata": {},
   "outputs": [],
   "source": [
    "import pandas as pd\n",
    "import numpy as np"
   ]
  },
  {
   "cell_type": "code",
   "execution_count": 2,
   "id": "c2632438-c557-469f-ab46-782ceac1abb0",
   "metadata": {},
   "outputs": [],
   "source": [
    "pd.set_option('display.max_rows', None) # setting the option to display maximum rows"
   ]
  },
  {
   "cell_type": "code",
   "execution_count": 5,
   "id": "279fb699-e8c0-4f7d-ac70-7b9264d9b0f9",
   "metadata": {},
   "outputs": [],
   "source": [
    "df = pd.read_csv(\"Automated_Traffic_Volume_Counts_20231110.csv\")"
   ]
  },
  {
   "cell_type": "code",
   "execution_count": 6,
   "id": "47f6fad9-75fb-4718-bd0b-7c3a33925759",
   "metadata": {},
   "outputs": [
    {
     "name": "stdout",
     "output_type": "stream",
     "text": [
      "<class 'pandas.core.frame.DataFrame'>\n",
      "RangeIndex: 27414481 entries, 0 to 27414480\n",
      "Data columns (total 14 columns):\n",
      " #   Column     Dtype \n",
      "---  ------     ----- \n",
      " 0   RequestID  int64 \n",
      " 1   Boro       object\n",
      " 2   Yr         int64 \n",
      " 3   M          int64 \n",
      " 4   D          int64 \n",
      " 5   HH         int64 \n",
      " 6   MM         int64 \n",
      " 7   Vol        object\n",
      " 8   SegmentID  int64 \n",
      " 9   WktGeom    object\n",
      " 10  street     object\n",
      " 11  fromSt     object\n",
      " 12  toSt       object\n",
      " 13  Direction  object\n",
      "dtypes: int64(7), object(7)\n",
      "memory usage: 2.9+ GB\n"
     ]
    }
   ],
   "source": [
    "df.info()"
   ]
  },
  {
   "cell_type": "code",
   "execution_count": 28,
   "id": "b578f8b2-933c-4b9e-a19a-e8a748fd4f2b",
   "metadata": {},
   "outputs": [],
   "source": [
    "df_br = df[df['Boro'] == 'Brooklyn']\n",
    "df_br.to_csv('brooklyn_all.csv')"
   ]
  },
  {
   "cell_type": "code",
   "execution_count": 29,
   "id": "a843069b-4cce-49fa-9b73-6f3a48a24cfc",
   "metadata": {},
   "outputs": [],
   "source": [
    "df_mh = df[df['Boro'] == 'Manhattan']\n",
    "df_mh.to_csv('Manhattan_all.csv')"
   ]
  },
  {
   "cell_type": "code",
   "execution_count": 30,
   "id": "dcb5d5aa-4071-4261-aefb-f12d7f71d275",
   "metadata": {},
   "outputs": [],
   "source": [
    "df_qn = df[df['Boro'] == 'Queens']\n",
    "df_qn.to_csv('queens_all.csv')"
   ]
  },
  {
   "cell_type": "code",
   "execution_count": 31,
   "id": "a17c5592-b4f1-409d-8bbc-3ccec367d825",
   "metadata": {},
   "outputs": [],
   "source": [
    "df_si = df[df['Boro'] == 'Staten Island']\n",
    "df_si.to_csv('staten_island_all.csv')"
   ]
  },
  {
   "cell_type": "code",
   "execution_count": 32,
   "id": "fac66b66-213e-4188-bbf1-e548730347ef",
   "metadata": {},
   "outputs": [],
   "source": [
    "df_bronx = df[df['Boro'] == 'Bronx']\n",
    "df_bronx.to_csv('bronx_all.csv')"
   ]
  },
  {
   "cell_type": "code",
   "execution_count": 9,
   "id": "00fee33b-5eff-4753-aae1-67f32d2bb328",
   "metadata": {},
   "outputs": [
    {
     "data": {
      "text/plain": [
       "array([2000, 2006, 2007, 2008, 2009, 2010, 2011, 2012, 2013, 2014, 2015,\n",
       "       2016, 2017, 2018, 2019, 2020, 2021, 2022], dtype=int64)"
      ]
     },
     "execution_count": 9,
     "metadata": {},
     "output_type": "execute_result"
    }
   ],
   "source": [
    "np.sort(df['Yr'].unique())"
   ]
  }
 ],
 "metadata": {
  "kernelspec": {
   "display_name": "Python 3 (ipykernel)",
   "language": "python",
   "name": "python3"
  },
  "language_info": {
   "codemirror_mode": {
    "name": "ipython",
    "version": 3
   },
   "file_extension": ".py",
   "mimetype": "text/x-python",
   "name": "python",
   "nbconvert_exporter": "python",
   "pygments_lexer": "ipython3",
   "version": "3.11.5"
  }
 },
 "nbformat": 4,
 "nbformat_minor": 5
}
