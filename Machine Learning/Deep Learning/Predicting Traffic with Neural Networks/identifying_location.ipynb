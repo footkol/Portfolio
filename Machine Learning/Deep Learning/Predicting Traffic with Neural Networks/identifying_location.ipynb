{
 "cells": [
  {
   "cell_type": "code",
   "execution_count": 3,
   "id": "24e1b875-5f3d-4f21-8866-b7c8bebd36b3",
   "metadata": {},
   "outputs": [],
   "source": [
    "import pandas as pd"
   ]
  },
  {
   "cell_type": "code",
   "execution_count": 4,
   "id": "8b3d7a11-b4b4-4f56-812c-65f4977a0d1d",
   "metadata": {},
   "outputs": [],
   "source": [
    "df_br = pd.read_csv(\"brooklyn_all.csv\", low_memory=False)"
   ]
  },
  {
   "cell_type": "code",
   "execution_count": 5,
   "id": "f6ab9b48-50df-4120-bc60-7400a30386f2",
   "metadata": {},
   "outputs": [],
   "source": [
    "df_br = df_br.apply(lambda x: x.astype(str).str.lower().str.replace(' ', '_'))"
   ]
  },
  {
   "cell_type": "code",
   "execution_count": 6,
   "id": "1da609cd-76e0-454e-a99a-5ca5f8111ecc",
   "metadata": {},
   "outputs": [],
   "source": [
    "most_popular_value = df_br['street'].value_counts().idxmax()"
   ]
  },
  {
   "cell_type": "code",
   "execution_count": 7,
   "id": "07f8a6e6-a65b-4c66-9453-4b3ee1381f8f",
   "metadata": {},
   "outputs": [
    {
     "data": {
      "text/plain": [
       "'flatbush_avenue'"
      ]
     },
     "execution_count": 7,
     "metadata": {},
     "output_type": "execute_result"
    }
   ],
   "source": [
    "most_popular_value"
   ]
  },
  {
   "cell_type": "code",
   "execution_count": 8,
   "id": "eae36d86-fe5a-4e3f-94d3-f17e5ea1aad0",
   "metadata": {},
   "outputs": [
    {
     "data": {
      "text/plain": [
       "street\n",
       "flatbush_avenue                    128771\n",
       "atlantic_avenue                     95512\n",
       "utica_avenue                        92644\n",
       "kings_highway                       89418\n",
       "linden_boulevard                    86482\n",
       "                                    ...  \n",
       "e/b_channel_ave_@_gerritsen_ave        98\n",
       "elm_st                                 98\n",
       "s/b_e_23_st_@_ave_l                    94\n",
       "19_avenue                              48\n",
       "s/b_forbell_st_@_sutter_ave            29\n",
       "Name: count, Length: 2242, dtype: int64"
      ]
     },
     "execution_count": 8,
     "metadata": {},
     "output_type": "execute_result"
    }
   ],
   "source": [
    "df_br.street.value_counts()"
   ]
  },
  {
   "cell_type": "code",
   "execution_count": 9,
   "id": "a28deda9-706f-4829-8743-91a12a3cef12",
   "metadata": {},
   "outputs": [
    {
     "name": "stdout",
     "output_type": "stream",
     "text": [
      "<class 'pandas.core.frame.DataFrame'>\n",
      "Index: 128771 entries, 1182603 to 7848564\n",
      "Data columns (total 15 columns):\n",
      " #   Column      Non-Null Count   Dtype \n",
      "---  ------      --------------   ----- \n",
      " 0   Unnamed: 0  128771 non-null  object\n",
      " 1   RequestID   128771 non-null  object\n",
      " 2   Boro        128771 non-null  object\n",
      " 3   Yr          128771 non-null  object\n",
      " 4   M           128771 non-null  object\n",
      " 5   D           128771 non-null  object\n",
      " 6   HH          128771 non-null  object\n",
      " 7   MM          128771 non-null  object\n",
      " 8   Vol         128771 non-null  object\n",
      " 9   SegmentID   128771 non-null  object\n",
      " 10  WktGeom     128771 non-null  object\n",
      " 11  street      128771 non-null  object\n",
      " 12  fromSt      128771 non-null  object\n",
      " 13  toSt        128771 non-null  object\n",
      " 14  Direction   128771 non-null  object\n",
      "dtypes: object(15)\n",
      "memory usage: 15.7+ MB\n"
     ]
    }
   ],
   "source": [
    "filtered_df = df_br[df_br['street'] == 'flatbush_avenue']\n",
    "filtered_df.info()"
   ]
  },
  {
   "cell_type": "code",
   "execution_count": 10,
   "metadata": {},
   "outputs": [],
   "source": [
    "filtered_df.to_csv('flatbush_avenue.csv')"
   ]
  }
 ],
 "metadata": {
  "kernelspec": {
   "display_name": "Python 3 (ipykernel)",
   "language": "python",
   "name": "python3"
  },
  "language_info": {
   "codemirror_mode": {
    "name": "ipython",
    "version": 3
   },
   "file_extension": ".py",
   "mimetype": "text/x-python",
   "name": "python",
   "nbconvert_exporter": "python",
   "pygments_lexer": "ipython3",
   "version": "3.11.5"
  }
 },
 "nbformat": 4,
 "nbformat_minor": 5
}
