{
 "cells": [
  {
   "cell_type": "code",
   "execution_count": 1,
   "id": "c3511da0-7923-4b56-a83f-78596fa5c7dd",
   "metadata": {},
   "outputs": [],
   "source": [
    "# Importing libraries\n",
    "\n",
    "import pandas as pd\n",
    "import numpy as np\n",
    "\n",
    "from IPython.display import display\n",
    "\n",
    "from sklearn.model_selection import train_test_split\n",
    "from sklearn.metrics import mutual_info_score\n",
    "from sklearn.feature_extraction import DictVectorizer\n",
    "from sklearn.linear_model import LogisticRegression\n",
    "from sklearn.tree import DecisionTreeClassifier\n",
    "from sklearn.ensemble import RandomForestClassifier\n",
    "from sklearn.metrics import accuracy_score, precision_score, recall_score, f1_score ,roc_auc_score\n",
    "from sklearn.metrics import confusion_matrix, classification_report, ConfusionMatrixDisplay\n",
    "\n",
    "from xgboost import XGBClassifier\n",
    "\n",
    "from imblearn.over_sampling import SMOTE\n",
    "from imblearn.under_sampling import NearMiss \n",
    "\n",
    "import seaborn as sns\n",
    "from matplotlib import pyplot as plt\n",
    "%matplotlib inline"
   ]
  },
  {
   "cell_type": "markdown",
   "id": "6c95c049-8f5a-42f0-9b2a-12fc5e877221",
   "metadata": {},
   "source": [
    "# Data exploration"
   ]
  },
  {
   "cell_type": "code",
   "execution_count": 2,
   "id": "e563a6e5-b2fb-425c-977c-f98a71c0c7a2",
   "metadata": {},
   "outputs": [],
   "source": [
    "df = pd.read_csv('Credit_card.csv')\n",
    "df_values = pd.read_csv('Credit_card_label.csv')"
   ]
  },
  {
   "cell_type": "code",
   "execution_count": 3,
   "id": "43cd482b-a8f1-40dc-9d50-b8692e5fe2dc",
   "metadata": {},
   "outputs": [
    {
     "data": {
      "text/html": [
       "<div>\n",
       "<style scoped>\n",
       "    .dataframe tbody tr th:only-of-type {\n",
       "        vertical-align: middle;\n",
       "    }\n",
       "\n",
       "    .dataframe tbody tr th {\n",
       "        vertical-align: top;\n",
       "    }\n",
       "\n",
       "    .dataframe thead th {\n",
       "        text-align: right;\n",
       "    }\n",
       "</style>\n",
       "<table border=\"1\" class=\"dataframe\">\n",
       "  <thead>\n",
       "    <tr style=\"text-align: right;\">\n",
       "      <th></th>\n",
       "      <th>Ind_ID</th>\n",
       "      <th>GENDER</th>\n",
       "      <th>Car_Owner</th>\n",
       "      <th>Propert_Owner</th>\n",
       "      <th>CHILDREN</th>\n",
       "      <th>Annual_income</th>\n",
       "      <th>Type_Income</th>\n",
       "      <th>EDUCATION</th>\n",
       "      <th>Marital_status</th>\n",
       "      <th>Housing_type</th>\n",
       "      <th>Birthday_count</th>\n",
       "      <th>Employed_days</th>\n",
       "      <th>Mobile_phone</th>\n",
       "      <th>Work_Phone</th>\n",
       "      <th>Phone</th>\n",
       "      <th>EMAIL_ID</th>\n",
       "      <th>Type_Occupation</th>\n",
       "      <th>Family_Members</th>\n",
       "    </tr>\n",
       "  </thead>\n",
       "  <tbody>\n",
       "    <tr>\n",
       "      <th>0</th>\n",
       "      <td>5008827</td>\n",
       "      <td>M</td>\n",
       "      <td>Y</td>\n",
       "      <td>Y</td>\n",
       "      <td>0</td>\n",
       "      <td>180000.0</td>\n",
       "      <td>Pensioner</td>\n",
       "      <td>Higher education</td>\n",
       "      <td>Married</td>\n",
       "      <td>House / apartment</td>\n",
       "      <td>-18772.0</td>\n",
       "      <td>365243</td>\n",
       "      <td>1</td>\n",
       "      <td>0</td>\n",
       "      <td>0</td>\n",
       "      <td>0</td>\n",
       "      <td>NaN</td>\n",
       "      <td>2</td>\n",
       "    </tr>\n",
       "    <tr>\n",
       "      <th>1</th>\n",
       "      <td>5009744</td>\n",
       "      <td>F</td>\n",
       "      <td>Y</td>\n",
       "      <td>N</td>\n",
       "      <td>0</td>\n",
       "      <td>315000.0</td>\n",
       "      <td>Commercial associate</td>\n",
       "      <td>Higher education</td>\n",
       "      <td>Married</td>\n",
       "      <td>House / apartment</td>\n",
       "      <td>-13557.0</td>\n",
       "      <td>-586</td>\n",
       "      <td>1</td>\n",
       "      <td>1</td>\n",
       "      <td>1</td>\n",
       "      <td>0</td>\n",
       "      <td>NaN</td>\n",
       "      <td>2</td>\n",
       "    </tr>\n",
       "    <tr>\n",
       "      <th>2</th>\n",
       "      <td>5009746</td>\n",
       "      <td>F</td>\n",
       "      <td>Y</td>\n",
       "      <td>N</td>\n",
       "      <td>0</td>\n",
       "      <td>315000.0</td>\n",
       "      <td>Commercial associate</td>\n",
       "      <td>Higher education</td>\n",
       "      <td>Married</td>\n",
       "      <td>House / apartment</td>\n",
       "      <td>NaN</td>\n",
       "      <td>-586</td>\n",
       "      <td>1</td>\n",
       "      <td>1</td>\n",
       "      <td>1</td>\n",
       "      <td>0</td>\n",
       "      <td>NaN</td>\n",
       "      <td>2</td>\n",
       "    </tr>\n",
       "    <tr>\n",
       "      <th>3</th>\n",
       "      <td>5009749</td>\n",
       "      <td>F</td>\n",
       "      <td>Y</td>\n",
       "      <td>N</td>\n",
       "      <td>0</td>\n",
       "      <td>NaN</td>\n",
       "      <td>Commercial associate</td>\n",
       "      <td>Higher education</td>\n",
       "      <td>Married</td>\n",
       "      <td>House / apartment</td>\n",
       "      <td>-13557.0</td>\n",
       "      <td>-586</td>\n",
       "      <td>1</td>\n",
       "      <td>1</td>\n",
       "      <td>1</td>\n",
       "      <td>0</td>\n",
       "      <td>NaN</td>\n",
       "      <td>2</td>\n",
       "    </tr>\n",
       "    <tr>\n",
       "      <th>4</th>\n",
       "      <td>5009752</td>\n",
       "      <td>F</td>\n",
       "      <td>Y</td>\n",
       "      <td>N</td>\n",
       "      <td>0</td>\n",
       "      <td>315000.0</td>\n",
       "      <td>Commercial associate</td>\n",
       "      <td>Higher education</td>\n",
       "      <td>Married</td>\n",
       "      <td>House / apartment</td>\n",
       "      <td>-13557.0</td>\n",
       "      <td>-586</td>\n",
       "      <td>1</td>\n",
       "      <td>1</td>\n",
       "      <td>1</td>\n",
       "      <td>0</td>\n",
       "      <td>NaN</td>\n",
       "      <td>2</td>\n",
       "    </tr>\n",
       "  </tbody>\n",
       "</table>\n",
       "</div>"
      ],
      "text/plain": [
       "    Ind_ID GENDER Car_Owner Propert_Owner  CHILDREN  Annual_income  \\\n",
       "0  5008827      M         Y             Y         0       180000.0   \n",
       "1  5009744      F         Y             N         0       315000.0   \n",
       "2  5009746      F         Y             N         0       315000.0   \n",
       "3  5009749      F         Y             N         0            NaN   \n",
       "4  5009752      F         Y             N         0       315000.0   \n",
       "\n",
       "            Type_Income         EDUCATION Marital_status       Housing_type  \\\n",
       "0             Pensioner  Higher education        Married  House / apartment   \n",
       "1  Commercial associate  Higher education        Married  House / apartment   \n",
       "2  Commercial associate  Higher education        Married  House / apartment   \n",
       "3  Commercial associate  Higher education        Married  House / apartment   \n",
       "4  Commercial associate  Higher education        Married  House / apartment   \n",
       "\n",
       "   Birthday_count  Employed_days  Mobile_phone  Work_Phone  Phone  EMAIL_ID  \\\n",
       "0        -18772.0         365243             1           0      0         0   \n",
       "1        -13557.0           -586             1           1      1         0   \n",
       "2             NaN           -586             1           1      1         0   \n",
       "3        -13557.0           -586             1           1      1         0   \n",
       "4        -13557.0           -586             1           1      1         0   \n",
       "\n",
       "  Type_Occupation  Family_Members  \n",
       "0             NaN               2  \n",
       "1             NaN               2  \n",
       "2             NaN               2  \n",
       "3             NaN               2  \n",
       "4             NaN               2  "
      ]
     },
     "execution_count": 3,
     "metadata": {},
     "output_type": "execute_result"
    }
   ],
   "source": [
    "# Exploring first 5 rows of the data\n",
    "\n",
    "df.head() "
   ]
  },
  {
   "cell_type": "code",
   "execution_count": 4,
   "id": "f1450b64-2393-4fa2-b4a8-c01338980fb6",
   "metadata": {},
   "outputs": [
    {
     "data": {
      "text/html": [
       "<div>\n",
       "<style scoped>\n",
       "    .dataframe tbody tr th:only-of-type {\n",
       "        vertical-align: middle;\n",
       "    }\n",
       "\n",
       "    .dataframe tbody tr th {\n",
       "        vertical-align: top;\n",
       "    }\n",
       "\n",
       "    .dataframe thead th {\n",
       "        text-align: right;\n",
       "    }\n",
       "</style>\n",
       "<table border=\"1\" class=\"dataframe\">\n",
       "  <thead>\n",
       "    <tr style=\"text-align: right;\">\n",
       "      <th></th>\n",
       "      <th>Ind_ID</th>\n",
       "      <th>label</th>\n",
       "    </tr>\n",
       "  </thead>\n",
       "  <tbody>\n",
       "    <tr>\n",
       "      <th>0</th>\n",
       "      <td>5008827</td>\n",
       "      <td>1</td>\n",
       "    </tr>\n",
       "    <tr>\n",
       "      <th>1</th>\n",
       "      <td>5009744</td>\n",
       "      <td>1</td>\n",
       "    </tr>\n",
       "    <tr>\n",
       "      <th>2</th>\n",
       "      <td>5009746</td>\n",
       "      <td>1</td>\n",
       "    </tr>\n",
       "    <tr>\n",
       "      <th>3</th>\n",
       "      <td>5009749</td>\n",
       "      <td>1</td>\n",
       "    </tr>\n",
       "    <tr>\n",
       "      <th>4</th>\n",
       "      <td>5009752</td>\n",
       "      <td>1</td>\n",
       "    </tr>\n",
       "  </tbody>\n",
       "</table>\n",
       "</div>"
      ],
      "text/plain": [
       "    Ind_ID  label\n",
       "0  5008827      1\n",
       "1  5009744      1\n",
       "2  5009746      1\n",
       "3  5009749      1\n",
       "4  5009752      1"
      ]
     },
     "execution_count": 4,
     "metadata": {},
     "output_type": "execute_result"
    }
   ],
   "source": [
    "df_values.head()"
   ]
  },
  {
   "cell_type": "code",
   "execution_count": 5,
   "id": "04290ea3",
   "metadata": {},
   "outputs": [
    {
     "data": {
      "text/plain": [
       "label\n",
       "0    1373\n",
       "1     175\n",
       "Name: count, dtype: int64"
      ]
     },
     "execution_count": 5,
     "metadata": {},
     "output_type": "execute_result"
    }
   ],
   "source": [
    "data_1 = df_values.label.value_counts()\n",
    "data_1"
   ]
  },
  {
   "cell_type": "markdown",
   "id": "d6838dee",
   "metadata": {},
   "source": [
    "Let's visualize the ratio of approvals vs declines"
   ]
  },
  {
   "cell_type": "code",
   "execution_count": 91,
   "id": "79ef7bbc",
   "metadata": {},
   "outputs": [
    {
     "data": {
      "image/png": "[encoded data removed]",
      "text/plain": [
       "<Figure size 640x480 with 1 Axes>"
      ]
     },
     "metadata": {},
     "output_type": "display_data"
    }
   ],
   "source": [
    "fig, ax = plt.subplots()\n",
    "explode = (0, 0.15)\n",
    "\n",
    "names = ['Approves', 'Declines']\n",
    "\n",
    "ax.pie(data_1, \n",
    "       labels=[f'{names[i]}: {data_2.index[i]}' for i in range(len(data_2))],\n",
    "       explode = explode, \n",
    "       #autopct='%1.1f%%', \n",
    "       shadow=True, \n",
    "       startangle=90, \n",
    "       autopct='%1.1f%%',\n",
    "       # labels = [ 'Approves', 'Declines']\n",
    "      )\n",
    "\n",
    "plt.title('Approvals vs Declines')\n",
    "plt.show()"
   ]
  },
  {
   "cell_type": "markdown",
   "id": "6826f813",
   "metadata": {},
   "source": [
    "In this dataset the target valuables represent application approval with 0 and application rejection with 1. In order for the data to be more intuitive we will reverse these so approval will be represented as 1 and rejection as 0. "
   ]
  },
  {
   "cell_type": "markdown",
   "id": "3ef1b915",
   "metadata": {},
   "source": [
    "Our data base is very imbalanced, we have a lot more approval rate than declines, with approximate ratio 1 to 8. "
   ]
  },
  {
   "cell_type": "code",
   "execution_count": 10,
   "id": "ac78b45c-9191-45b3-bb74-ab054595ca51",
   "metadata": {},
   "outputs": [],
   "source": [
    "# Combining our features with values\n",
    "\n",
    "df = pd.merge(df, df_values, on = 'Ind_ID')"
   ]
  },
  {
   "cell_type": "code",
   "execution_count": 11,
   "id": "3df179ce-62e9-4711-969c-ad7f84be4537",
   "metadata": {},
   "outputs": [
    {
     "name": "stdout",
     "output_type": "stream",
     "text": [
      "<class 'pandas.core.frame.DataFrame'>\n",
      "RangeIndex: 1548 entries, 0 to 1547\n",
      "Data columns (total 19 columns):\n",
      " #   Column           Non-Null Count  Dtype  \n",
      "---  ------           --------------  -----  \n",
      " 0   Ind_ID           1548 non-null   int64  \n",
      " 1   GENDER           1541 non-null   object \n",
      " 2   Car_Owner        1548 non-null   object \n",
      " 3   Propert_Owner    1548 non-null   object \n",
      " 4   CHILDREN         1548 non-null   int64  \n",
      " 5   Annual_income    1525 non-null   float64\n",
      " 6   Type_Income      1548 non-null   object \n",
      " 7   EDUCATION        1548 non-null   object \n",
      " 8   Marital_status   1548 non-null   object \n",
      " 9   Housing_type     1548 non-null   object \n",
      " 10  Birthday_count   1526 non-null   float64\n",
      " 11  Employed_days    1548 non-null   int64  \n",
      " 12  Mobile_phone     1548 non-null   int64  \n",
      " 13  Work_Phone       1548 non-null   int64  \n",
      " 14  Phone            1548 non-null   int64  \n",
      " 15  EMAIL_ID         1548 non-null   int64  \n",
      " 16  Type_Occupation  1060 non-null   object \n",
      " 17  Family_Members   1548 non-null   int64  \n",
      " 18  label            1548 non-null   int64  \n",
      "dtypes: float64(2), int64(9), object(8)\n",
      "memory usage: 229.9+ KB\n"
     ]
    }
   ],
   "source": [
    "df.info()"
   ]
  },
  {
   "cell_type": "code",
   "execution_count": 12,
   "id": "48542b83-49ce-4bc5-971c-ce5ed758e450",
   "metadata": {},
   "outputs": [
    {
     "data": {
      "text/html": [
       "<div>\n",
       "<style scoped>\n",
       "    .dataframe tbody tr th:only-of-type {\n",
       "        vertical-align: middle;\n",
       "    }\n",
       "\n",
       "    .dataframe tbody tr th {\n",
       "        vertical-align: top;\n",
       "    }\n",
       "\n",
       "    .dataframe thead th {\n",
       "        text-align: right;\n",
       "    }\n",
       "</style>\n",
       "<table border=\"1\" class=\"dataframe\">\n",
       "  <thead>\n",
       "    <tr style=\"text-align: right;\">\n",
       "      <th></th>\n",
       "      <th>count</th>\n",
       "      <th>mean</th>\n",
       "      <th>std</th>\n",
       "      <th>min</th>\n",
       "      <th>25%</th>\n",
       "      <th>50%</th>\n",
       "      <th>75%</th>\n",
       "      <th>max</th>\n",
       "    </tr>\n",
       "  </thead>\n",
       "  <tbody>\n",
       "    <tr>\n",
       "      <th>Ind_ID</th>\n",
       "      <td>1548.0</td>\n",
       "      <td>5.078920e+06</td>\n",
       "      <td>41717.587742</td>\n",
       "      <td>5008827.0</td>\n",
       "      <td>5045069.75</td>\n",
       "      <td>5078841.5</td>\n",
       "      <td>5115673.00</td>\n",
       "      <td>5150412.0</td>\n",
       "    </tr>\n",
       "    <tr>\n",
       "      <th>CHILDREN</th>\n",
       "      <td>1548.0</td>\n",
       "      <td>4.127907e-01</td>\n",
       "      <td>0.776691</td>\n",
       "      <td>0.0</td>\n",
       "      <td>0.00</td>\n",
       "      <td>0.0</td>\n",
       "      <td>1.00</td>\n",
       "      <td>14.0</td>\n",
       "    </tr>\n",
       "    <tr>\n",
       "      <th>Annual_income</th>\n",
       "      <td>1525.0</td>\n",
       "      <td>1.913993e+05</td>\n",
       "      <td>113252.997656</td>\n",
       "      <td>33750.0</td>\n",
       "      <td>121500.00</td>\n",
       "      <td>166500.0</td>\n",
       "      <td>225000.00</td>\n",
       "      <td>1575000.0</td>\n",
       "    </tr>\n",
       "    <tr>\n",
       "      <th>Birthday_count</th>\n",
       "      <td>1526.0</td>\n",
       "      <td>-1.604034e+04</td>\n",
       "      <td>4229.503202</td>\n",
       "      <td>-24946.0</td>\n",
       "      <td>-19553.00</td>\n",
       "      <td>-15661.5</td>\n",
       "      <td>-12417.00</td>\n",
       "      <td>-7705.0</td>\n",
       "    </tr>\n",
       "    <tr>\n",
       "      <th>Employed_days</th>\n",
       "      <td>1548.0</td>\n",
       "      <td>5.936469e+04</td>\n",
       "      <td>137808.062701</td>\n",
       "      <td>-14887.0</td>\n",
       "      <td>-3174.50</td>\n",
       "      <td>-1565.0</td>\n",
       "      <td>-431.75</td>\n",
       "      <td>365243.0</td>\n",
       "    </tr>\n",
       "    <tr>\n",
       "      <th>Mobile_phone</th>\n",
       "      <td>1548.0</td>\n",
       "      <td>1.000000e+00</td>\n",
       "      <td>0.000000</td>\n",
       "      <td>1.0</td>\n",
       "      <td>1.00</td>\n",
       "      <td>1.0</td>\n",
       "      <td>1.00</td>\n",
       "      <td>1.0</td>\n",
       "    </tr>\n",
       "    <tr>\n",
       "      <th>Work_Phone</th>\n",
       "      <td>1548.0</td>\n",
       "      <td>2.080103e-01</td>\n",
       "      <td>0.406015</td>\n",
       "      <td>0.0</td>\n",
       "      <td>0.00</td>\n",
       "      <td>0.0</td>\n",
       "      <td>0.00</td>\n",
       "      <td>1.0</td>\n",
       "    </tr>\n",
       "    <tr>\n",
       "      <th>Phone</th>\n",
       "      <td>1548.0</td>\n",
       "      <td>3.094315e-01</td>\n",
       "      <td>0.462409</td>\n",
       "      <td>0.0</td>\n",
       "      <td>0.00</td>\n",
       "      <td>0.0</td>\n",
       "      <td>1.00</td>\n",
       "      <td>1.0</td>\n",
       "    </tr>\n",
       "    <tr>\n",
       "      <th>EMAIL_ID</th>\n",
       "      <td>1548.0</td>\n",
       "      <td>9.237726e-02</td>\n",
       "      <td>0.289651</td>\n",
       "      <td>0.0</td>\n",
       "      <td>0.00</td>\n",
       "      <td>0.0</td>\n",
       "      <td>0.00</td>\n",
       "      <td>1.0</td>\n",
       "    </tr>\n",
       "    <tr>\n",
       "      <th>Family_Members</th>\n",
       "      <td>1548.0</td>\n",
       "      <td>2.161499e+00</td>\n",
       "      <td>0.947772</td>\n",
       "      <td>1.0</td>\n",
       "      <td>2.00</td>\n",
       "      <td>2.0</td>\n",
       "      <td>3.00</td>\n",
       "      <td>15.0</td>\n",
       "    </tr>\n",
       "    <tr>\n",
       "      <th>label</th>\n",
       "      <td>1548.0</td>\n",
       "      <td>1.130491e-01</td>\n",
       "      <td>0.316755</td>\n",
       "      <td>0.0</td>\n",
       "      <td>0.00</td>\n",
       "      <td>0.0</td>\n",
       "      <td>0.00</td>\n",
       "      <td>1.0</td>\n",
       "    </tr>\n",
       "  </tbody>\n",
       "</table>\n",
       "</div>"
      ],
      "text/plain": [
       "                 count          mean            std        min         25%  \\\n",
       "Ind_ID          1548.0  5.078920e+06   41717.587742  5008827.0  5045069.75   \n",
       "CHILDREN        1548.0  4.127907e-01       0.776691        0.0        0.00   \n",
       "Annual_income   1525.0  1.913993e+05  113252.997656    33750.0   121500.00   \n",
       "Birthday_count  1526.0 -1.604034e+04    4229.503202   -24946.0   -19553.00   \n",
       "Employed_days   1548.0  5.936469e+04  137808.062701   -14887.0    -3174.50   \n",
       "Mobile_phone    1548.0  1.000000e+00       0.000000        1.0        1.00   \n",
       "Work_Phone      1548.0  2.080103e-01       0.406015        0.0        0.00   \n",
       "Phone           1548.0  3.094315e-01       0.462409        0.0        0.00   \n",
       "EMAIL_ID        1548.0  9.237726e-02       0.289651        0.0        0.00   \n",
       "Family_Members  1548.0  2.161499e+00       0.947772        1.0        2.00   \n",
       "label           1548.0  1.130491e-01       0.316755        0.0        0.00   \n",
       "\n",
       "                      50%         75%        max  \n",
       "Ind_ID          5078841.5  5115673.00  5150412.0  \n",
       "CHILDREN              0.0        1.00       14.0  \n",
       "Annual_income    166500.0   225000.00  1575000.0  \n",
       "Birthday_count   -15661.5   -12417.00    -7705.0  \n",
       "Employed_days     -1565.0     -431.75   365243.0  \n",
       "Mobile_phone          1.0        1.00        1.0  \n",
       "Work_Phone            0.0        0.00        1.0  \n",
       "Phone                 0.0        1.00        1.0  \n",
       "EMAIL_ID              0.0        0.00        1.0  \n",
       "Family_Members        2.0        3.00       15.0  \n",
       "label                 0.0        0.00        1.0  "
      ]
     },
     "execution_count": 12,
     "metadata": {},
     "output_type": "execute_result"
    }
   ],
   "source": [
    "df.describe().T"
   ]
  },
  {
   "cell_type": "code",
   "execution_count": 13,
   "id": "9be86a65-b638-4b31-bee5-2f71c51f5e98",
   "metadata": {
    "scrolled": false
   },
   "outputs": [
    {
     "name": "stdout",
     "output_type": "stream",
     "text": [
      "Ind_ID\n",
      "[5008827 5009744 5009746 ... 5115992 5118219 5053790]\n",
      "\n",
      "GENDER\n",
      "['M' 'F' nan]\n",
      "\n",
      "Car_Owner\n",
      "['Y' 'N']\n",
      "\n",
      "Propert_Owner\n",
      "['Y' 'N']\n",
      "\n",
      "CHILDREN\n",
      "[ 0  1  2  4  3 14]\n",
      "\n",
      "Annual_income\n",
      "[ 180000.   315000.        nan  450000.    90000.   472500.   270000.\n",
      "  126000.   202500.   157500.   112500.   540000.   292500.   135000.\n",
      "   76500.   215100.   225000.    67500.   171000.   103500.    99000.\n",
      "  391500.    65250.    72900.   360000.   256500.   675000.   247500.\n",
      "   85500.   121500.   130500.   211500.    81000.    72000.   148500.\n",
      "  162000.   195750.   585000.   216000.   306000.   108000.    63000.\n",
      "   45000.   337500.   131400.   117000.   445500.   234000.  1575000.\n",
      "  144000.    67050.    73350.   193500.   900000.    94500.   198000.\n",
      "   54000.   166500.   167400.   153000.   423000.   243000.   283500.\n",
      "  252000.   495000.   612000.    36000.   139500.   133650.   427500.\n",
      "  261000.   231750.    90900.    45900.   119250.    58500.   328500.\n",
      "  787500.   594000.   119700.    69372.    37800.   387000.   207000.\n",
      "  189000.   333000.   105750.   382500.   141750.    40500.   405000.\n",
      "   44550.   301500.   351000.   175500.   121900.5  238500.    33750.\n",
      "  116100.   297000.   630000.   418500.    83250.   173250.   274500.\n",
      "  115200.    56250.    95850.   185400.   810000.   184500.   165600.\n",
      "  114750.    47250.    49500.    69750. ]\n",
      "\n",
      "Type_Income\n",
      "['Pensioner' 'Commercial associate' 'Working' 'State servant']\n",
      "\n",
      "EDUCATION\n",
      "['Higher education' 'Secondary / secondary special' 'Lower secondary'\n",
      " 'Incomplete higher' 'Academic degree']\n",
      "\n",
      "Marital_status\n",
      "['Married' 'Single / not married' 'Civil marriage' 'Separated' 'Widow']\n",
      "\n",
      "Housing_type\n",
      "['House / apartment' 'With parents' 'Rented apartment'\n",
      " 'Municipal apartment' 'Co-op apartment' 'Office apartment']\n",
      "\n",
      "Birthday_count\n",
      "[-18772. -13557.     nan ... -10229. -15292. -16601.]\n",
      "\n",
      "Employed_days\n",
      "[365243   -586   -678  -1002   -913   -248  -2470  -1644  -4327  -1674\n",
      "  -1086   -925   -854   -185  -3350   -691  -4770  -2394   -384  -3647\n",
      "  -1546   -808  -1285   -855  -7369  -2269  -4114  -1161  -7288   -166\n",
      "   -866   -564  -3366  -2150  -1458  -8369   -508  -1567   -137  -3974\n",
      "  -1570  -2878   -140  -2576  -1905  -1724  -1328  -4987  -3496  -1394\n",
      "  -1265  -2531  -2105   -860   -217   -535  -6866   -584  -2227  -8161\n",
      "   -613   -606  -6944   -346  -1808  -3420   -863  -7413  -7553  -3931\n",
      "  -1039   -134   -622  -1595  -1626  -1868   -555  -1935   -931   -900\n",
      "  -4305   -499  -2418   -189  -1132  -1770   -919  -1081   -502  -2420\n",
      "  -1325  -6367  -2484   -341  -9422  -3054  -2987  -2128   -820   -141\n",
      "  -1692  -4686   -693   -567   -885  -2769  -1547  -3179  -5204  -3072\n",
      "   -320  -2469   -583   -834  -1085  -1399  -7310  -1748  -2479   -875\n",
      "  -2805  -2477  -1477  -1782   -431  -1416   -263  -2349   -412  -7068\n",
      "  -1787  -1345  -3717  -1048  -2667  -2606  -2135  -1534  -2311  -1323\n",
      "  -5061  -2213  -2152  -4509  -1552  -1569  -1679  -8684  -6337    -97\n",
      "  -1222   -531  -7591  -5639  -1776  -5498  -5880   -460  -4532  -3309\n",
      "  -3873   -344  -1923   -604  -1922  -1496   -708 -12332  -5209  -6273\n",
      "  -2722  -9363   -746  -1322  -3458   -158  -2457  -2811  -7018  -2026\n",
      "   -188  -2967  -3166  -5107  -1649  -3694  -3697  -4596  -5674  -1682\n",
      "   -196   -530  -1696  -2168 -13382  -1509  -1347  -1405   -227  -9975\n",
      "  -1505  -5084  -2905   -356  -1719  -3680   -962  -3000  -4275   -110\n",
      "  -2078  -8377  -4392   -126  -7640  -3153   -139  -4023  -4888 -14887\n",
      "  -3319  -1966   -200  -6123   -117  -2625  -1763  -3689  -3414  -2910\n",
      "  -3412  -1107  -8036  -3608   -101  -3231   -203  -1589  -3577   -735\n",
      "  -8737  -1617  -1591   -979   -422   -655  -3653  -1261  -7346  -5545\n",
      "  -3810  -1190  -3246  -7676  -1353  -3715  -1113   -992  -2289 -12621\n",
      "  -3643   -869  -2174  -5336  -3535  -4407   -453   -960  -4711  -1965\n",
      "  -2543  -1393  -2234  -1631  -1619  -5981  -2682  -3443  -2330   -413\n",
      "  -6645   -505   -201  -3273  -1462  -2609   -521  -1321  -2467   -716\n",
      "  -1632   -614  -1904   -351  -7260   -626  -6853   -458  -1628  -6094\n",
      "   -734   -657  -2700   -880   -157   -135  -1497  -1266   -515  -1023\n",
      "  -2129   -575  -3262   -430  -2207  -1866  -4568   -309   -578  -6908\n",
      "  -1931  -8033  -2257  -3776  -4583  -4404   -727  -3805  -2316  -1455\n",
      "  -5422   -581   -893  -1860  -6317  -1000  -4766  -2259  -1344  -4690\n",
      "  -8290  -2052  -5004   -923  -1193   -793  -5453    -88  -5495   -593\n",
      "  -4816  -1586  -2104  -1032  -9698  -1131  -1175  -8375  -2199  -1912\n",
      "   -926  -2499  -2654  -1174   -230  -2276  -2197  -2468 -11448   -932\n",
      "  -2956   -619  -3787  -1253  -3242   -298   -124  -4082  -1431  -5330\n",
      "  -1017  -1128  -3088  -1466  -1689  -3003  -4039   -588   -282  -4491\n",
      "  -1155  -1220  -1203   -712  -2844  -4031  -3322  -6693  -2760  -2532\n",
      "  -1646 -11542  -5408  -1374  -3092  -2993  -2379  -1281  -7804  -3002\n",
      "   -825  -2057  -1611   -652  -2537  -2331  -4710  -1191  -1162  -3900\n",
      "   -219   -223  -3034  -3329   -235  -3503  -1324  -3112  -2959   -234\n",
      "   -719  -2616  -4410  -1587  -1537  -1430  -1928  -2753   -867  -2134\n",
      "  -3232    -95  -3690  -9870  -4979  -3396   -461  -5206  -3173   -732\n",
      "   -432  -2102  -6583   -156  -5460  -2506  -3397  -3792  -3230  -2464\n",
      "  -3334  -3110  -2966  -2728  -4161  -7494  -4280  -5891  -1350   -609\n",
      "  -2381  -1613  -3533  -6218  -2874  -1654  -2433  -4534   -522   -798\n",
      "  -2620   -145   -663  -2299  -1812  -2589   -130  -5056   -796  -7341\n",
      "  -1130  -5436  -2368  -1889  -1315  -1678  -2939  -1616  -8405  -3476\n",
      "  -3453  -3769  -1359  -2990  -2321  -4267  -1386   -645   -886  -1823\n",
      "  -4965  -3716  -1557  -3761  -1981   -102   -288  -2147  -3929   -424\n",
      "  -1069  -2323  -3332   -553   -375  -6352  -1056  -1172  -4663  -5587\n",
      "  -1406  -8966  -6860  -1463   -561  -3661  -6764 -10600  -3999  -3960\n",
      "  -2065  -1205  -1135  -5190  -3720  -2633  -3272  -2500  -6033   -170\n",
      "   -278  -3062  -8157  -2653  -1953  -5457  -1997  -3435  -1504  -2696\n",
      " -13735   -132  -6621  -2481  -2818 -11906  -1077  -9258  -2277  -2422\n",
      "   -826  -2969  -2086  -1070  -8172   -701  -1384  -9447  -1160  -1952\n",
      "  -1354   -469   -563  -1526  -2092  -1749   -168  -4029  -4967  -3282\n",
      "   -339  -7979  -9683   -577  -2622   -976  -1994  -1563  -4523   -340\n",
      "  -6614  -1639  -3392  -3261  -3928  -5082  -3630  -3591  -1199  -4304\n",
      "  -2514  -2187  -7140    -96  -5176  -6761  -2356  -2908  -3333  -3596\n",
      "  -4606  -4030  -5246  -2906  -1915  -1267  -1256  -1721  -2317  -1518\n",
      "   -864  -7364  -1101  -2231  -1327   -355  -1934  -5179  -2326   -980\n",
      "  -1224  -7048  -2266    -73  -2661   -286  -8044   -523   -978   -795\n",
      "  -2351  -1114  -3760  -5145  -4119  -3641   -481  -4603   -888   -393\n",
      "  -1007 -10688  -2228  -8479  -2180  -1362  -1876  -2265 -11389  -4146\n",
      "  -5500  -5521   -658  -3695   -901  -1751  -3663  -3149  -1375   -183\n",
      "   -500   -489  -2450  -1539  -1556  -7095   -674  -2605  -1999  -4599\n",
      "  -6488  -1054   -745  -3505  -1585  -6904  -2530  -1420   -314  -2441\n",
      " -11884  -4520  -3289  -1495  -3504  -3093  -2417  -2554   -818  -9359\n",
      "  -1508 -10364  -4331  -2296  -2142  -3163  -3961  -2896  -1185  -1670\n",
      "  -3670  -1202  -4936   -596  -6648   -747  -1741  -1615  -1444  -2089\n",
      "   -397  -2592  -1618  -2822  -1600  -2558   -991  -2758  -2988  -2904\n",
      "  -3377  -3902  -3202   -671   -848   -552  -2559  -2361  -3854  -1182\n",
      "  -2384  -8230  -2493  -2362  -4034  -2143  -2393  -2565   -450  -5496\n",
      "  -2319   -191  -3506  -2865  -2339  -2072  -7013  -3008  -2932   -565\n",
      "  -1282  -3154  -1225  -2333  -1869 -11940  -3515  -3291   -407   -444\n",
      "   -226   -279  -1661   -896   -670  -2533  -7400  -3339  -1259   -265\n",
      "  -1870  -2540  -2978   -187   -477  -1436  -1978  -1133  -2985 -10758\n",
      "  -4288    -89  -6930  -1807  -3143  -3850  -4560   -785  -3570   -777\n",
      " -11451   -742  -5950   -464   -385  -2475  -2051  -3607  -2454  -7614\n",
      "  -2796   -642  -4004  -4917  -5622   -313  -1753  -5830  -1677  -3078\n",
      "  -3061   -625  -1381   -308  -5437   -218  -3195  -1198  -1473  -5483\n",
      "   -704 -12870  -5373  -7128  -2255  -5345  -3574   -164  -6226  -6678\n",
      "  -2024   -890  -6075  -1774   -686  -3229  -3455  -5454 -13010  -5507\n",
      "  -6640  -5488   -221   -127  -8760  -7718  -3123  -1652  -6879  -2673\n",
      "   -420  -1072  -5760  -1871  -1707  -1962  -1598  -1583  -7264   -536\n",
      "  -1313  -2512  -5673  -3380  -3944  -3654   -171  -1801  -1138  -1897\n",
      "  -2980  -1581  -6558  -4434   -210  -3032  -2389  -1467   -377 -10762\n",
      "  -2788  -3668  -2340  -9925   -918  -4219   -194  -3010   -370   -232\n",
      "   -285  -1830  -3853  -2866  -1022  -2423  -2545  -6230   -104  -2631\n",
      "   -367   -857  -4887   -433   -803  -3361  -1520  -5155  -5006  -2191\n",
      "  -1064   -828  -4874  -1217  -7557  -5334   -611  -5215   -438   -958\n",
      "  -3095  -2827  -3693  -2262   -195   -109  -5862  -1200  -1891  -4662\n",
      "  -2924  -1648  -3536  -2182  -1209  -2859]\n",
      "\n",
      "Mobile_phone\n",
      "[1]\n",
      "\n",
      "Work_Phone\n",
      "[0 1]\n",
      "\n",
      "Phone\n",
      "[0 1]\n",
      "\n",
      "EMAIL_ID\n",
      "[0 1]\n",
      "\n",
      "Type_Occupation\n",
      "[nan 'Core staff' 'Cooking staff' 'Laborers' 'Sales staff' 'Accountants'\n",
      " 'High skill tech staff' 'Managers' 'Cleaning staff' 'Drivers'\n",
      " 'Low-skill Laborers' 'IT staff' 'Waiters/barmen staff' 'Security staff'\n",
      " 'Medicine staff' 'Private service staff' 'HR staff' 'Secretaries'\n",
      " 'Realty agents']\n",
      "\n",
      "Family_Members\n",
      "[ 2  3  1  4  6  5 15]\n",
      "\n",
      "label\n",
      "[1 0]\n",
      "\n"
     ]
    }
   ],
   "source": [
    "# Checking unique values in all columns\n",
    "\n",
    "for col in df.columns:\n",
    "    print(col)\n",
    "    \n",
    "    print(df[col].unique())\n",
    "    print()"
   ]
  },
  {
   "cell_type": "markdown",
   "id": "ca3c1e7d-841f-4d72-a14b-6f6cd01f949d",
   "metadata": {},
   "source": [
    "# Data preparation"
   ]
  },
  {
   "cell_type": "markdown",
   "id": "e1c97f52",
   "metadata": {},
   "source": [
    "Shuffling the ordering of the rows in the database is an essential step in preparing your data for machine learning training. Let's do that. "
   ]
  },
  {
   "cell_type": "code",
   "execution_count": 14,
   "id": "e5da8eb5",
   "metadata": {},
   "outputs": [],
   "source": [
    "np.random.seed(1)\n",
    "df = df.loc[np.random.permutation(len(df))]"
   ]
  },
  {
   "cell_type": "markdown",
   "id": "2212ffa8-36f1-4a54-a9cc-f3ffdae643bb",
   "metadata": {},
   "source": [
    "Upon the inspection, we can see that column 'Mobile_phone' contains only one value of 1, thus we can safely remove it as will not affect our data. "
   ]
  },
  {
   "cell_type": "code",
   "execution_count": 15,
   "id": "847ab1ef-b0de-49c9-b97a-687464945fab",
   "metadata": {},
   "outputs": [],
   "source": [
    "df.drop(columns = ['Mobile_phone', 'Ind_ID'], axis =1, inplace=True)"
   ]
  },
  {
   "cell_type": "code",
   "execution_count": 16,
   "id": "eb9fecf0-a3f1-487c-91c4-a9e408480391",
   "metadata": {},
   "outputs": [
    {
     "data": {
      "text/html": [
       "<div>\n",
       "<style scoped>\n",
       "    .dataframe tbody tr th:only-of-type {\n",
       "        vertical-align: middle;\n",
       "    }\n",
       "\n",
       "    .dataframe tbody tr th {\n",
       "        vertical-align: top;\n",
       "    }\n",
       "\n",
       "    .dataframe thead th {\n",
       "        text-align: right;\n",
       "    }\n",
       "</style>\n",
       "<table border=\"1\" class=\"dataframe\">\n",
       "  <thead>\n",
       "    <tr style=\"text-align: right;\">\n",
       "      <th></th>\n",
       "      <th>GENDER</th>\n",
       "      <th>Car_Owner</th>\n",
       "      <th>Propert_Owner</th>\n",
       "      <th>CHILDREN</th>\n",
       "      <th>Annual_income</th>\n",
       "      <th>Type_Income</th>\n",
       "      <th>EDUCATION</th>\n",
       "      <th>Marital_status</th>\n",
       "      <th>Housing_type</th>\n",
       "      <th>Birthday_count</th>\n",
       "      <th>Employed_days</th>\n",
       "      <th>Work_Phone</th>\n",
       "      <th>Phone</th>\n",
       "      <th>EMAIL_ID</th>\n",
       "      <th>Type_Occupation</th>\n",
       "      <th>Family_Members</th>\n",
       "      <th>label</th>\n",
       "    </tr>\n",
       "  </thead>\n",
       "  <tbody>\n",
       "    <tr>\n",
       "      <th>102</th>\n",
       "      <td>F</td>\n",
       "      <td>N</td>\n",
       "      <td>N</td>\n",
       "      <td>0</td>\n",
       "      <td>135000.0</td>\n",
       "      <td>Working</td>\n",
       "      <td>Secondary / secondary special</td>\n",
       "      <td>Widow</td>\n",
       "      <td>Co-op apartment</td>\n",
       "      <td>-20012.0</td>\n",
       "      <td>-584</td>\n",
       "      <td>0</td>\n",
       "      <td>0</td>\n",
       "      <td>0</td>\n",
       "      <td>Core staff</td>\n",
       "      <td>1</td>\n",
       "      <td>1</td>\n",
       "    </tr>\n",
       "    <tr>\n",
       "      <th>1116</th>\n",
       "      <td>M</td>\n",
       "      <td>Y</td>\n",
       "      <td>Y</td>\n",
       "      <td>0</td>\n",
       "      <td>225000.0</td>\n",
       "      <td>Pensioner</td>\n",
       "      <td>Secondary / secondary special</td>\n",
       "      <td>Single / not married</td>\n",
       "      <td>House / apartment</td>\n",
       "      <td>-17454.0</td>\n",
       "      <td>365243</td>\n",
       "      <td>0</td>\n",
       "      <td>1</td>\n",
       "      <td>0</td>\n",
       "      <td>NaN</td>\n",
       "      <td>1</td>\n",
       "      <td>0</td>\n",
       "    </tr>\n",
       "    <tr>\n",
       "      <th>159</th>\n",
       "      <td>F</td>\n",
       "      <td>N</td>\n",
       "      <td>Y</td>\n",
       "      <td>0</td>\n",
       "      <td>67500.0</td>\n",
       "      <td>Commercial associate</td>\n",
       "      <td>Higher education</td>\n",
       "      <td>Separated</td>\n",
       "      <td>House / apartment</td>\n",
       "      <td>-18952.0</td>\n",
       "      <td>-499</td>\n",
       "      <td>0</td>\n",
       "      <td>1</td>\n",
       "      <td>0</td>\n",
       "      <td>Core staff</td>\n",
       "      <td>1</td>\n",
       "      <td>1</td>\n",
       "    </tr>\n",
       "    <tr>\n",
       "      <th>87</th>\n",
       "      <td>F</td>\n",
       "      <td>N</td>\n",
       "      <td>Y</td>\n",
       "      <td>2</td>\n",
       "      <td>180000.0</td>\n",
       "      <td>Working</td>\n",
       "      <td>Incomplete higher</td>\n",
       "      <td>Separated</td>\n",
       "      <td>House / apartment</td>\n",
       "      <td>-12253.0</td>\n",
       "      <td>-3496</td>\n",
       "      <td>1</td>\n",
       "      <td>0</td>\n",
       "      <td>0</td>\n",
       "      <td>NaN</td>\n",
       "      <td>3</td>\n",
       "      <td>1</td>\n",
       "    </tr>\n",
       "    <tr>\n",
       "      <th>120</th>\n",
       "      <td>M</td>\n",
       "      <td>Y</td>\n",
       "      <td>Y</td>\n",
       "      <td>0</td>\n",
       "      <td>126000.0</td>\n",
       "      <td>Working</td>\n",
       "      <td>Higher education</td>\n",
       "      <td>Single / not married</td>\n",
       "      <td>House / apartment</td>\n",
       "      <td>-14522.0</td>\n",
       "      <td>-863</td>\n",
       "      <td>1</td>\n",
       "      <td>0</td>\n",
       "      <td>0</td>\n",
       "      <td>Managers</td>\n",
       "      <td>1</td>\n",
       "      <td>1</td>\n",
       "    </tr>\n",
       "    <tr>\n",
       "      <th>...</th>\n",
       "      <td>...</td>\n",
       "      <td>...</td>\n",
       "      <td>...</td>\n",
       "      <td>...</td>\n",
       "      <td>...</td>\n",
       "      <td>...</td>\n",
       "      <td>...</td>\n",
       "      <td>...</td>\n",
       "      <td>...</td>\n",
       "      <td>...</td>\n",
       "      <td>...</td>\n",
       "      <td>...</td>\n",
       "      <td>...</td>\n",
       "      <td>...</td>\n",
       "      <td>...</td>\n",
       "      <td>...</td>\n",
       "      <td>...</td>\n",
       "    </tr>\n",
       "    <tr>\n",
       "      <th>1278</th>\n",
       "      <td>M</td>\n",
       "      <td>Y</td>\n",
       "      <td>Y</td>\n",
       "      <td>0</td>\n",
       "      <td>315000.0</td>\n",
       "      <td>Working</td>\n",
       "      <td>Higher education</td>\n",
       "      <td>Married</td>\n",
       "      <td>House / apartment</td>\n",
       "      <td>-18335.0</td>\n",
       "      <td>-2796</td>\n",
       "      <td>0</td>\n",
       "      <td>0</td>\n",
       "      <td>0</td>\n",
       "      <td>Drivers</td>\n",
       "      <td>2</td>\n",
       "      <td>0</td>\n",
       "    </tr>\n",
       "    <tr>\n",
       "      <th>1202</th>\n",
       "      <td>F</td>\n",
       "      <td>N</td>\n",
       "      <td>Y</td>\n",
       "      <td>0</td>\n",
       "      <td>126000.0</td>\n",
       "      <td>Working</td>\n",
       "      <td>Secondary / secondary special</td>\n",
       "      <td>Married</td>\n",
       "      <td>House / apartment</td>\n",
       "      <td>-22811.0</td>\n",
       "      <td>-2234</td>\n",
       "      <td>1</td>\n",
       "      <td>1</td>\n",
       "      <td>0</td>\n",
       "      <td>High skill tech staff</td>\n",
       "      <td>2</td>\n",
       "      <td>0</td>\n",
       "    </tr>\n",
       "    <tr>\n",
       "      <th>1414</th>\n",
       "      <td>M</td>\n",
       "      <td>Y</td>\n",
       "      <td>Y</td>\n",
       "      <td>0</td>\n",
       "      <td>247500.0</td>\n",
       "      <td>Working</td>\n",
       "      <td>Secondary / secondary special</td>\n",
       "      <td>Married</td>\n",
       "      <td>House / apartment</td>\n",
       "      <td>-15366.0</td>\n",
       "      <td>-1266</td>\n",
       "      <td>1</td>\n",
       "      <td>1</td>\n",
       "      <td>0</td>\n",
       "      <td>Drivers</td>\n",
       "      <td>2</td>\n",
       "      <td>0</td>\n",
       "    </tr>\n",
       "    <tr>\n",
       "      <th>144</th>\n",
       "      <td>M</td>\n",
       "      <td>N</td>\n",
       "      <td>Y</td>\n",
       "      <td>0</td>\n",
       "      <td>112500.0</td>\n",
       "      <td>Commercial associate</td>\n",
       "      <td>Higher education</td>\n",
       "      <td>Married</td>\n",
       "      <td>House / apartment</td>\n",
       "      <td>-20103.0</td>\n",
       "      <td>-555</td>\n",
       "      <td>0</td>\n",
       "      <td>0</td>\n",
       "      <td>0</td>\n",
       "      <td>Security staff</td>\n",
       "      <td>2</td>\n",
       "      <td>1</td>\n",
       "    </tr>\n",
       "    <tr>\n",
       "      <th>715</th>\n",
       "      <td>M</td>\n",
       "      <td>N</td>\n",
       "      <td>Y</td>\n",
       "      <td>0</td>\n",
       "      <td>360000.0</td>\n",
       "      <td>Commercial associate</td>\n",
       "      <td>Secondary / secondary special</td>\n",
       "      <td>Married</td>\n",
       "      <td>House / apartment</td>\n",
       "      <td>-12483.0</td>\n",
       "      <td>-4039</td>\n",
       "      <td>0</td>\n",
       "      <td>0</td>\n",
       "      <td>0</td>\n",
       "      <td>Managers</td>\n",
       "      <td>2</td>\n",
       "      <td>0</td>\n",
       "    </tr>\n",
       "  </tbody>\n",
       "</table>\n",
       "<p>162 rows × 17 columns</p>\n",
       "</div>"
      ],
      "text/plain": [
       "     GENDER Car_Owner Propert_Owner  CHILDREN  Annual_income  \\\n",
       "102       F         N             N         0       135000.0   \n",
       "1116      M         Y             Y         0       225000.0   \n",
       "159       F         N             Y         0        67500.0   \n",
       "87        F         N             Y         2       180000.0   \n",
       "120       M         Y             Y         0       126000.0   \n",
       "...     ...       ...           ...       ...            ...   \n",
       "1278      M         Y             Y         0       315000.0   \n",
       "1202      F         N             Y         0       126000.0   \n",
       "1414      M         Y             Y         0       247500.0   \n",
       "144       M         N             Y         0       112500.0   \n",
       "715       M         N             Y         0       360000.0   \n",
       "\n",
       "               Type_Income                      EDUCATION  \\\n",
       "102                Working  Secondary / secondary special   \n",
       "1116             Pensioner  Secondary / secondary special   \n",
       "159   Commercial associate               Higher education   \n",
       "87                 Working              Incomplete higher   \n",
       "120                Working               Higher education   \n",
       "...                    ...                            ...   \n",
       "1278               Working               Higher education   \n",
       "1202               Working  Secondary / secondary special   \n",
       "1414               Working  Secondary / secondary special   \n",
       "144   Commercial associate               Higher education   \n",
       "715   Commercial associate  Secondary / secondary special   \n",
       "\n",
       "            Marital_status       Housing_type  Birthday_count  Employed_days  \\\n",
       "102                  Widow    Co-op apartment        -20012.0           -584   \n",
       "1116  Single / not married  House / apartment        -17454.0         365243   \n",
       "159              Separated  House / apartment        -18952.0           -499   \n",
       "87               Separated  House / apartment        -12253.0          -3496   \n",
       "120   Single / not married  House / apartment        -14522.0           -863   \n",
       "...                    ...                ...             ...            ...   \n",
       "1278               Married  House / apartment        -18335.0          -2796   \n",
       "1202               Married  House / apartment        -22811.0          -2234   \n",
       "1414               Married  House / apartment        -15366.0          -1266   \n",
       "144                Married  House / apartment        -20103.0           -555   \n",
       "715                Married  House / apartment        -12483.0          -4039   \n",
       "\n",
       "      Work_Phone  Phone  EMAIL_ID        Type_Occupation  Family_Members  \\\n",
       "102            0      0         0             Core staff               1   \n",
       "1116           0      1         0                    NaN               1   \n",
       "159            0      1         0             Core staff               1   \n",
       "87             1      0         0                    NaN               3   \n",
       "120            1      0         0               Managers               1   \n",
       "...          ...    ...       ...                    ...             ...   \n",
       "1278           0      0         0                Drivers               2   \n",
       "1202           1      1         0  High skill tech staff               2   \n",
       "1414           1      1         0                Drivers               2   \n",
       "144            0      0         0         Security staff               2   \n",
       "715            0      0         0               Managers               2   \n",
       "\n",
       "      label  \n",
       "102       1  \n",
       "1116      0  \n",
       "159       1  \n",
       "87        1  \n",
       "120       1  \n",
       "...     ...  \n",
       "1278      0  \n",
       "1202      0  \n",
       "1414      0  \n",
       "144       1  \n",
       "715       0  \n",
       "\n",
       "[162 rows x 17 columns]"
      ]
     },
     "execution_count": 16,
     "metadata": {},
     "output_type": "execute_result"
    }
   ],
   "source": [
    "# Checking for duplicate rows \n",
    "\n",
    "dups = df.duplicated()\n",
    "df[dups]"
   ]
  },
  {
   "cell_type": "code",
   "execution_count": 17,
   "id": "37ba4c91-2ca8-4f17-a121-febb4b2d4d1e",
   "metadata": {},
   "outputs": [],
   "source": [
    "# There are 162 dublicates which we can remove\n",
    "\n",
    "df = df.drop_duplicates().reset_index(drop=True)"
   ]
  },
  {
   "cell_type": "code",
   "execution_count": 18,
   "id": "80916a9e-fb6a-4bfe-8982-624ae1c367f6",
   "metadata": {},
   "outputs": [],
   "source": [
    "# Replacing column names with lowercase\n",
    "\n",
    "df.rename(columns=lambda x: x.lower(), inplace=True) "
   ]
  },
  {
   "cell_type": "code",
   "execution_count": 19,
   "id": "58ffe457-f287-4cdc-b18c-e203c9021982",
   "metadata": {},
   "outputs": [
    {
     "name": "stdout",
     "output_type": "stream",
     "text": [
      "<class 'pandas.core.frame.DataFrame'>\n",
      "RangeIndex: 1386 entries, 0 to 1385\n",
      "Data columns (total 17 columns):\n",
      " #   Column           Non-Null Count  Dtype  \n",
      "---  ------           --------------  -----  \n",
      " 0   gender           1379 non-null   object \n",
      " 1   car_owner        1386 non-null   object \n",
      " 2   propert_owner    1386 non-null   object \n",
      " 3   children         1386 non-null   int64  \n",
      " 4   annual_income    1363 non-null   float64\n",
      " 5   type_income      1386 non-null   object \n",
      " 6   education        1386 non-null   object \n",
      " 7   marital_status   1386 non-null   object \n",
      " 8   housing_type     1386 non-null   object \n",
      " 9   birthday_count   1364 non-null   float64\n",
      " 10  employed_days    1386 non-null   int64  \n",
      " 11  work_phone       1386 non-null   int64  \n",
      " 12  phone            1386 non-null   int64  \n",
      " 13  email_id         1386 non-null   int64  \n",
      " 14  type_occupation  948 non-null    object \n",
      " 15  family_members   1386 non-null   int64  \n",
      " 16  label            1386 non-null   int64  \n",
      "dtypes: float64(2), int64(7), object(8)\n",
      "memory usage: 184.2+ KB\n"
     ]
    }
   ],
   "source": [
    "# Verifying results\n",
    "\n",
    "df.info()"
   ]
  },
  {
   "cell_type": "code",
   "execution_count": 20,
   "id": "e6d5f071-f961-4bb2-ad09-b28ce137b5e7",
   "metadata": {},
   "outputs": [],
   "source": [
    "# Converting birthday count days into years\n",
    "\n",
    "df['birthday_count'] = abs(df['birthday_count']/365).round()"
   ]
  },
  {
   "cell_type": "code",
   "execution_count": 21,
   "id": "7929db28-3cfe-4ac7-82de-0ffbb765f087",
   "metadata": {},
   "outputs": [
    {
     "data": {
      "text/plain": [
       "array([40., 38., 39., 42., 37., 25., 27., 30., 32., 51., 45., 44., 56.,\n",
       "       52., 55., 47., 29., 34., 53., 35., 48., 63., 41., 31., 23., 54.,\n",
       "       26., 28., nan, 57., 67., 33., 58., 36., 62., 49., 66., 65., 64.,\n",
       "       50., 46., 59., 61., 43., 60., 21., 24., 68., 22.])"
      ]
     },
     "execution_count": 21,
     "metadata": {},
     "output_type": "execute_result"
    }
   ],
   "source": [
    "df['birthday_count'].unique()"
   ]
  },
  {
   "cell_type": "code",
   "execution_count": 22,
   "id": "806812f7-07f6-4ee8-b6c9-13edb612bcc2",
   "metadata": {},
   "outputs": [],
   "source": [
    "# Creating a new column for unemployment\n",
    "\n",
    "df['unemployed'] = df['employed_days'] >=0\n",
    "\n",
    "# Converting booleans into integers\n",
    "\n",
    "df['unemployed'] = np.multiply(df['unemployed'], 1) "
   ]
  },
  {
   "cell_type": "code",
   "execution_count": 23,
   "id": "4d31fb04-4e91-4940-9bec-2240d9268149",
   "metadata": {},
   "outputs": [
    {
     "data": {
      "text/plain": [
       "unemployed\n",
       "0    1149\n",
       "1     237\n",
       "Name: count, dtype: int64"
      ]
     },
     "execution_count": 23,
     "metadata": {},
     "output_type": "execute_result"
    }
   ],
   "source": [
    "df['unemployed'].value_counts() # verifying results"
   ]
  },
  {
   "cell_type": "code",
   "execution_count": 24,
   "id": "9c6ee694-40c8-4008-8285-69ad30374669",
   "metadata": {},
   "outputs": [
    {
     "data": {
      "text/plain": [
       "employed\n",
       "1    1149\n",
       "0     237\n",
       "Name: count, dtype: int64"
      ]
     },
     "execution_count": 24,
     "metadata": {},
     "output_type": "execute_result"
    }
   ],
   "source": [
    "# Creating a new column for employment\n",
    "\n",
    "df['employed'] = df['employed_days'] < 0 \n",
    "\n",
    "# Converting booleans into integers\n",
    "\n",
    "df['employed'] = np.multiply(df['employed'], 1)\n",
    "df['employed'].value_counts() # verifying results"
   ]
  },
  {
   "cell_type": "code",
   "execution_count": 25,
   "id": "b4ef7876-d595-4712-80da-60e4c73f8e54",
   "metadata": {},
   "outputs": [],
   "source": [
    "# Removing positive values indicating unemployment from 'employed_days' column\n",
    "\n",
    "df['employed_days'] = df['employed_days'].apply(lambda x: x if x < 0 else None)"
   ]
  },
  {
   "cell_type": "code",
   "execution_count": 26,
   "id": "e9303d74-6548-41cd-8b6c-cab1058dfb65",
   "metadata": {},
   "outputs": [
    {
     "data": {
      "text/plain": [
       "employed_days\n",
       "-460.0     5\n",
       "-1678.0    5\n",
       "-140.0     4\n",
       "-586.0     4\n",
       "-678.0     4\n",
       "          ..\n",
       "-500.0     1\n",
       "-980.0     1\n",
       "-3663.0    1\n",
       "-4161.0    1\n",
       "-3093.0    1\n",
       "Name: count, Length: 955, dtype: int64"
      ]
     },
     "execution_count": 26,
     "metadata": {},
     "output_type": "execute_result"
    }
   ],
   "source": [
    "df['employed_days'].value_counts()"
   ]
  },
  {
   "cell_type": "code",
   "execution_count": 27,
   "id": "4b6262b3-bbf0-4ffc-a087-45aa20381451",
   "metadata": {},
   "outputs": [],
   "source": [
    "# Converting 'employment_days' into 'employment_years'\n",
    "\n",
    "df['employed_years'] = abs(df['employed_days']/365).round(1)"
   ]
  },
  {
   "cell_type": "code",
   "execution_count": 28,
   "id": "e9a683a8-bde6-410a-8441-1d7bb799c92d",
   "metadata": {},
   "outputs": [],
   "source": [
    "# Removing 'employed_days' column as its data has been converted to 'employed', 'unemployed'\n",
    "# and 'employed_years' columns\n",
    "\n",
    "df.drop(['employed_days'], axis =1, inplace=True)"
   ]
  },
  {
   "cell_type": "markdown",
   "id": "0bb22af5-476b-4e98-94e1-ee12f0c5794c",
   "metadata": {},
   "source": [
    "# Handling Missing Values with Imputation"
   ]
  },
  {
   "cell_type": "code",
   "execution_count": 29,
   "id": "620de8f5-73f9-4af6-98e5-2886b762bef6",
   "metadata": {},
   "outputs": [
    {
     "data": {
      "text/plain": [
       "gender               7\n",
       "car_owner            0\n",
       "propert_owner        0\n",
       "children             0\n",
       "annual_income       23\n",
       "type_income          0\n",
       "education            0\n",
       "marital_status       0\n",
       "housing_type         0\n",
       "birthday_count      22\n",
       "work_phone           0\n",
       "phone                0\n",
       "email_id             0\n",
       "type_occupation    438\n",
       "family_members       0\n",
       "label                0\n",
       "unemployed           0\n",
       "employed             0\n",
       "employed_years     237\n",
       "dtype: int64"
      ]
     },
     "execution_count": 29,
     "metadata": {},
     "output_type": "execute_result"
    }
   ],
   "source": [
    "df.isnull().sum()"
   ]
  },
  {
   "cell_type": "markdown",
   "id": "09300114-b505-49fa-b536-4754603a8b36",
   "metadata": {},
   "source": [
    "Let's visualize our missing data"
   ]
  },
  {
   "cell_type": "code",
   "execution_count": 30,
   "id": "8ec287aa-4a0b-4919-9424-bfd1109e8885",
   "metadata": {},
   "outputs": [
    {
     "data": {
      "text/plain": [
       "<Axes: >"
      ]
     },
     "execution_count": 30,
     "metadata": {},
     "output_type": "execute_result"
    },
    {
     "data": {
      "image/png": "[encoded data removed]",
      "text/plain": [
       "<Figure size 640x480 with 1 Axes>"
      ]
     },
     "metadata": {},
     "output_type": "display_data"
    }
   ],
   "source": [
    "import seaborn as sns\n",
    "sns.heatmap(df.isnull(), cbar=False)"
   ]
  },
  {
   "cell_type": "markdown",
   "id": "87233804-dcec-4a6c-ae5a-fe40f1f14313",
   "metadata": {},
   "source": [
    "Missing values in 'employed_years' column suggest that the person is currently unemployed, hence we can substitute NaN values with 0"
   ]
  },
  {
   "cell_type": "code",
   "execution_count": 31,
   "id": "d1f6cb20-16fc-46b0-968c-3390acda964d",
   "metadata": {},
   "outputs": [
    {
     "data": {
      "text/plain": [
       "0"
      ]
     },
     "execution_count": 31,
     "metadata": {},
     "output_type": "execute_result"
    }
   ],
   "source": [
    "# Replacing missing values with 0\n",
    "\n",
    "df['employed_years'] = df['employed_years'].fillna(0)\n",
    "df['employed_years'].isnull().sum() # Verifyingh results"
   ]
  },
  {
   "cell_type": "code",
   "execution_count": 32,
   "id": "d7044d10-5123-489d-91c2-f6a179e6efd9",
   "metadata": {},
   "outputs": [],
   "source": [
    "# Replacing missing values in non-numeric column 'type_occupation' with 'unknown'\n",
    "\n",
    "df['type_occupation'] = df['type_occupation'].fillna('unknown')"
   ]
  },
  {
   "cell_type": "code",
   "execution_count": 33,
   "id": "d3e8082b-4b06-44e5-8d5f-055919bfe8a4",
   "metadata": {},
   "outputs": [
    {
     "data": {
      "text/plain": [
       "type_occupation\n",
       "unknown                  438\n",
       "Laborers                 240\n",
       "Core staff               155\n",
       "Managers                 116\n",
       "Sales staff              111\n",
       "Drivers                   77\n",
       "High skill tech staff     59\n",
       "Medicine staff            43\n",
       "Accountants               41\n",
       "Security staff            21\n",
       "Cleaning staff            20\n",
       "Cooking staff             20\n",
       "Private service staff     17\n",
       "Low-skill Laborers         9\n",
       "Secretaries                8\n",
       "Waiters/barmen staff       5\n",
       "HR staff                   3\n",
       "Realty agents              2\n",
       "IT staff                   1\n",
       "Name: count, dtype: int64"
      ]
     },
     "execution_count": 33,
     "metadata": {},
     "output_type": "execute_result"
    }
   ],
   "source": [
    "df.type_occupation.value_counts()"
   ]
  },
  {
   "cell_type": "markdown",
   "id": "c40f6b69",
   "metadata": {},
   "source": [
    "For numeric columns, it's very common to replace missing values with the mean. \n",
    "In our case missing values in 'annual_income' and 'birthday_count' columns represent less than 2% of the total data, thus this approach is justifiable.  "
   ]
  },
  {
   "cell_type": "code",
   "execution_count": 34,
   "id": "065f3ff9-d0a5-42ad-bbaf-d14aa74f4cd8",
   "metadata": {},
   "outputs": [
    {
     "data": {
      "text/plain": [
       "0"
      ]
     },
     "execution_count": 34,
     "metadata": {},
     "output_type": "execute_result"
    }
   ],
   "source": [
    "birthday_mean = df['birthday_count'].mean()\n",
    "df['birthday_count'] = df['birthday_count'].fillna(value = birthday_mean)\n",
    "df['birthday_count'].isnull().sum() # verifying results"
   ]
  },
  {
   "cell_type": "code",
   "execution_count": 35,
   "id": "639ec1f1-4c91-4a73-a807-2d8e0f52b7b9",
   "metadata": {},
   "outputs": [
    {
     "data": {
      "text/plain": [
       "0"
      ]
     },
     "execution_count": 35,
     "metadata": {},
     "output_type": "execute_result"
    }
   ],
   "source": [
    "income_mean = df['annual_income'].mean()\n",
    "df['annual_income'] = df['annual_income'].fillna(value = income_mean)\n",
    "df['annual_income'].isnull().sum() # verifying results"
   ]
  },
  {
   "cell_type": "markdown",
   "id": "0afdd34a",
   "metadata": {},
   "source": [
    "Lastly there is less than 1% of total data is missing in gender column, therefor dropping these rows will not significantly impact our data base. "
   ]
  },
  {
   "cell_type": "code",
   "execution_count": 36,
   "id": "cf8575f5-ec15-43a9-aaf8-c863e1388622",
   "metadata": {},
   "outputs": [
    {
     "name": "stdout",
     "output_type": "stream",
     "text": [
      "<class 'pandas.core.frame.DataFrame'>\n",
      "RangeIndex: 1379 entries, 0 to 1378\n",
      "Data columns (total 19 columns):\n",
      " #   Column           Non-Null Count  Dtype  \n",
      "---  ------           --------------  -----  \n",
      " 0   gender           1379 non-null   object \n",
      " 1   car_owner        1379 non-null   object \n",
      " 2   propert_owner    1379 non-null   object \n",
      " 3   children         1379 non-null   int64  \n",
      " 4   annual_income    1379 non-null   float64\n",
      " 5   type_income      1379 non-null   object \n",
      " 6   education        1379 non-null   object \n",
      " 7   marital_status   1379 non-null   object \n",
      " 8   housing_type     1379 non-null   object \n",
      " 9   birthday_count   1379 non-null   float64\n",
      " 10  work_phone       1379 non-null   int64  \n",
      " 11  phone            1379 non-null   int64  \n",
      " 12  email_id         1379 non-null   int64  \n",
      " 13  type_occupation  1379 non-null   object \n",
      " 14  family_members   1379 non-null   int64  \n",
      " 15  label            1379 non-null   int64  \n",
      " 16  unemployed       1379 non-null   int32  \n",
      " 17  employed         1379 non-null   int32  \n",
      " 18  employed_years   1379 non-null   float64\n",
      "dtypes: float64(3), int32(2), int64(6), object(8)\n",
      "memory usage: 194.1+ KB\n"
     ]
    }
   ],
   "source": [
    "df = df.dropna().reset_index(drop=True)\n",
    "df.info() # verifying index reset"
   ]
  },
  {
   "cell_type": "code",
   "execution_count": 37,
   "id": "f8093476-c59d-4af2-b733-91e1d8c5bf83",
   "metadata": {},
   "outputs": [
    {
     "data": {
      "text/plain": [
       "gender             0\n",
       "car_owner          0\n",
       "propert_owner      0\n",
       "children           0\n",
       "annual_income      0\n",
       "type_income        0\n",
       "education          0\n",
       "marital_status     0\n",
       "housing_type       0\n",
       "birthday_count     0\n",
       "work_phone         0\n",
       "phone              0\n",
       "email_id           0\n",
       "type_occupation    0\n",
       "family_members     0\n",
       "label              0\n",
       "unemployed         0\n",
       "employed           0\n",
       "employed_years     0\n",
       "dtype: int64"
      ]
     },
     "execution_count": 37,
     "metadata": {},
     "output_type": "execute_result"
    }
   ],
   "source": [
    "# Verifying results\n",
    "\n",
    "df.isnull().sum()"
   ]
  },
  {
   "cell_type": "markdown",
   "id": "7c94cb78",
   "metadata": {},
   "source": [
    "# Working with outliers"
   ]
  },
  {
   "cell_type": "code",
   "execution_count": 38,
   "id": "5ac10afa",
   "metadata": {},
   "outputs": [
    {
     "data": {
      "text/plain": [
       "<Axes: xlabel='annual_income', ylabel='Count'>"
      ]
     },
     "execution_count": 38,
     "metadata": {},
     "output_type": "execute_result"
    },
    {
     "data": {
      "image/png": "[encoded data removed]",
      "text/plain": [
       "<Figure size 640x480 with 1 Axes>"
      ]
     },
     "metadata": {},
     "output_type": "display_data"
    }
   ],
   "source": [
    "import warnings\n",
    "warnings.filterwarnings(\"ignore\")\n",
    "sns.histplot(df.annual_income, bins = 50)"
   ]
  },
  {
   "cell_type": "markdown",
   "id": "2d499831",
   "metadata": {},
   "source": [
    "It is common practice to apply logarithmic function to data with long tail distribution. It can help make the distribution more symmetric, potentially stabilizing the variance and making it more suitable for certain types of analysis or modeling."
   ]
  },
  {
   "cell_type": "code",
   "execution_count": 39,
   "id": "aad0c6e0",
   "metadata": {},
   "outputs": [
    {
     "data": {
      "text/plain": [
       "<Axes: xlabel='log_income', ylabel='Count'>"
      ]
     },
     "execution_count": 39,
     "metadata": {},
     "output_type": "execute_result"
    },
    {
     "data": {
      "image/png": "[encoded data removed]",
      "text/plain": [
       "<Figure size 640x480 with 1 Axes>"
      ]
     },
     "metadata": {},
     "output_type": "display_data"
    }
   ],
   "source": [
    "df['log_income'] = np.log1p(df.annual_income)\n",
    "sns.histplot(df.log_income, bins = 50)"
   ]
  },
  {
   "cell_type": "code",
   "execution_count": 40,
   "id": "989147b3",
   "metadata": {},
   "outputs": [
    {
     "data": {
      "text/plain": [
       "gender              object\n",
       "car_owner           object\n",
       "propert_owner       object\n",
       "children             int64\n",
       "type_income         object\n",
       "education           object\n",
       "marital_status      object\n",
       "housing_type        object\n",
       "birthday_count     float64\n",
       "work_phone           int64\n",
       "phone                int64\n",
       "email_id             int64\n",
       "type_occupation     object\n",
       "family_members       int64\n",
       "label                int64\n",
       "unemployed           int32\n",
       "employed             int32\n",
       "employed_years     float64\n",
       "log_income         float64\n",
       "dtype: object"
      ]
     },
     "execution_count": 40,
     "metadata": {},
     "output_type": "execute_result"
    }
   ],
   "source": [
    "df.drop(['annual_income'], axis = 1, inplace =True)\n",
    "df.dtypes"
   ]
  },
  {
   "cell_type": "markdown",
   "id": "bf226508",
   "metadata": {},
   "source": [
    "# Working with categorical data"
   ]
  },
  {
   "cell_type": "code",
   "execution_count": 41,
   "id": "c8091c2b",
   "metadata": {},
   "outputs": [
    {
     "data": {
      "text/plain": [
       "gender              object\n",
       "car_owner           object\n",
       "propert_owner       object\n",
       "children             int64\n",
       "type_income         object\n",
       "education           object\n",
       "marital_status      object\n",
       "housing_type        object\n",
       "birthday_count     float64\n",
       "work_phone           int64\n",
       "phone                int64\n",
       "email_id             int64\n",
       "type_occupation     object\n",
       "family_members       int64\n",
       "label                int64\n",
       "unemployed           int32\n",
       "employed             int32\n",
       "employed_years     float64\n",
       "log_income         float64\n",
       "dtype: object"
      ]
     },
     "execution_count": 41,
     "metadata": {},
     "output_type": "execute_result"
    }
   ],
   "source": [
    "df.dtypes"
   ]
  },
  {
   "cell_type": "code",
   "execution_count": 42,
   "id": "2441299e",
   "metadata": {},
   "outputs": [
    {
     "data": {
      "text/plain": [
       "propert_owner\n",
       "Y    899\n",
       "N    480\n",
       "Name: count, dtype: int64"
      ]
     },
     "execution_count": 42,
     "metadata": {},
     "output_type": "execute_result"
    }
   ],
   "source": [
    "df['propert_owner'].value_counts()"
   ]
  },
  {
   "cell_type": "code",
   "execution_count": 43,
   "id": "8bf4b6a8",
   "metadata": {},
   "outputs": [
    {
     "data": {
      "text/plain": [
       "propert_owner\n",
       "1    899\n",
       "0    480\n",
       "Name: count, dtype: int64"
      ]
     },
     "execution_count": 43,
     "metadata": {},
     "output_type": "execute_result"
    }
   ],
   "source": [
    "# Converting categorical 'propert_owner' values into numerical. 1 stands for Yes and 0 for No\n",
    "\n",
    "df['propert_owner'] = (df['propert_owner'] == 'Y').astype(int)\n",
    "df['propert_owner'].value_counts() # verifying results"
   ]
  },
  {
   "cell_type": "code",
   "execution_count": 44,
   "id": "31ed3997",
   "metadata": {},
   "outputs": [
    {
     "data": {
      "text/plain": [
       "car_owner\n",
       "N    831\n",
       "Y    548\n",
       "Name: count, dtype: int64"
      ]
     },
     "execution_count": 44,
     "metadata": {},
     "output_type": "execute_result"
    }
   ],
   "source": [
    "df['car_owner'].value_counts()"
   ]
  },
  {
   "cell_type": "code",
   "execution_count": 45,
   "id": "faf78772",
   "metadata": {},
   "outputs": [
    {
     "data": {
      "text/plain": [
       "car_owner\n",
       "0    831\n",
       "1    548\n",
       "Name: count, dtype: int64"
      ]
     },
     "execution_count": 45,
     "metadata": {},
     "output_type": "execute_result"
    }
   ],
   "source": [
    "# Converting categorical 'car_owner' values into numerical. 1 stands for Yes and 0 for No\n",
    "\n",
    "\n",
    "df['car_owner'] = (df['car_owner'] == 'Y').astype(int)\n",
    "df['car_owner'].value_counts()"
   ]
  },
  {
   "cell_type": "code",
   "execution_count": 46,
   "id": "ed192f50",
   "metadata": {},
   "outputs": [
    {
     "data": {
      "text/plain": [
       "['gender',\n",
       " 'type_income',\n",
       " 'education',\n",
       " 'marital_status',\n",
       " 'housing_type',\n",
       " 'type_occupation']"
      ]
     },
     "execution_count": 46,
     "metadata": {},
     "output_type": "execute_result"
    }
   ],
   "source": [
    "categorical = df.select_dtypes(include='object').columns.tolist()\n",
    "categorical"
   ]
  },
  {
   "cell_type": "code",
   "execution_count": 47,
   "id": "14863d20",
   "metadata": {},
   "outputs": [
    {
     "data": {
      "text/plain": [
       "['car_owner',\n",
       " 'propert_owner',\n",
       " 'children',\n",
       " 'birthday_count',\n",
       " 'work_phone',\n",
       " 'phone',\n",
       " 'email_id',\n",
       " 'family_members',\n",
       " 'unemployed',\n",
       " 'employed',\n",
       " 'employed_years',\n",
       " 'log_income']"
      ]
     },
     "execution_count": 47,
     "metadata": {},
     "output_type": "execute_result"
    }
   ],
   "source": [
    "numerical = df.select_dtypes(exclude='object').columns.tolist()\n",
    "numerical.remove('label')\n",
    "numerical"
   ]
  },
  {
   "cell_type": "markdown",
   "id": "fe0f0c27",
   "metadata": {},
   "source": [
    "### Feature importance\n",
    "\n",
    "Feature importance is crucial for understanding the relevance of different features in a predictive model and for feature selection."
   ]
  },
  {
   "cell_type": "code",
   "execution_count": 48,
   "id": "867f7e79",
   "metadata": {},
   "outputs": [
    {
     "data": {
      "text/plain": [
       "9.6"
      ]
     },
     "execution_count": 48,
     "metadata": {},
     "output_type": "execute_result"
    }
   ],
   "source": [
    "# Calculating mean value of approval rate\n",
    "global_mean = df.label.mean()\n",
    "round(global_mean, 3) * 100"
   ]
  },
  {
   "cell_type": "code",
   "execution_count": 49,
   "id": "8bbdd574",
   "metadata": {},
   "outputs": [
    {
     "data": {
      "text/plain": [
       "label\n",
       "0    1247\n",
       "1     132\n",
       "Name: count, dtype: int64"
      ]
     },
     "execution_count": 49,
     "metadata": {},
     "output_type": "execute_result"
    }
   ],
   "source": [
    "df.label.value_counts()"
   ]
  },
  {
   "cell_type": "code",
   "execution_count": 50,
   "id": "ca48b2f4",
   "metadata": {},
   "outputs": [
    {
     "data": {
      "text/plain": [
       "label\n",
       "0    0.904278\n",
       "1    0.095722\n",
       "Name: proportion, dtype: float64"
      ]
     },
     "execution_count": 50,
     "metadata": {},
     "output_type": "execute_result"
    }
   ],
   "source": [
    "df.label.value_counts(normalize=True)"
   ]
  },
  {
   "cell_type": "markdown",
   "id": "854cd7dd",
   "metadata": {},
   "source": [
    "Let's work out the differences between mean of target variable and mean of categorical features. In addition we will calculate the risk ratio as well. This should help us in identifying the most important categorical features for the model.  \n",
    "\n",
    "**diff**: Difference between mean of the target variable and mean of categories for a feature. If this ratio is positive, it indicates a lower probability of approval within the category, and if the gap is negative, the group is more likely to be approved. Larger disparities serve as indications that a variable holds more significance compared to others.\n",
    "\n",
    "**risk**: Ratio between mean of categories for a feature and mean of the target variable. If this ratio exceeds 1, the category has a higher likelihood of approval, whereas if it falls below 1, the category is less probable to be approved. This ratio provides a comparative measure of the significance of the feature.\n"
   ]
  },
  {
   "cell_type": "code",
   "execution_count": 51,
   "id": "f181495a",
   "metadata": {
    "scrolled": false
   },
   "outputs": [
    {
     "data": {
      "text/html": [
       "<div>\n",
       "<style scoped>\n",
       "    .dataframe tbody tr th:only-of-type {\n",
       "        vertical-align: middle;\n",
       "    }\n",
       "\n",
       "    .dataframe tbody tr th {\n",
       "        vertical-align: top;\n",
       "    }\n",
       "\n",
       "    .dataframe thead th {\n",
       "        text-align: right;\n",
       "    }\n",
       "</style>\n",
       "<table border=\"1\" class=\"dataframe\">\n",
       "  <thead>\n",
       "    <tr style=\"text-align: right;\">\n",
       "      <th></th>\n",
       "      <th>mean</th>\n",
       "      <th>diff</th>\n",
       "      <th>risk</th>\n",
       "    </tr>\n",
       "    <tr>\n",
       "      <th>gender</th>\n",
       "      <th></th>\n",
       "      <th></th>\n",
       "      <th></th>\n",
       "    </tr>\n",
       "  </thead>\n",
       "  <tbody>\n",
       "    <tr>\n",
       "      <th>F</th>\n",
       "      <td>0.085</td>\n",
       "      <td>-0.011</td>\n",
       "      <td>0.887</td>\n",
       "    </tr>\n",
       "    <tr>\n",
       "      <th>M</th>\n",
       "      <td>0.114</td>\n",
       "      <td>0.019</td>\n",
       "      <td>1.195</td>\n",
       "    </tr>\n",
       "  </tbody>\n",
       "</table>\n",
       "</div>"
      ],
      "text/plain": [
       "         mean   diff   risk\n",
       "gender                     \n",
       "F       0.085 -0.011  0.887\n",
       "M       0.114  0.019  1.195"
      ]
     },
     "metadata": {},
     "output_type": "display_data"
    },
    {
     "data": {
      "text/html": [
       "<div>\n",
       "<style scoped>\n",
       "    .dataframe tbody tr th:only-of-type {\n",
       "        vertical-align: middle;\n",
       "    }\n",
       "\n",
       "    .dataframe tbody tr th {\n",
       "        vertical-align: top;\n",
       "    }\n",
       "\n",
       "    .dataframe thead th {\n",
       "        text-align: right;\n",
       "    }\n",
       "</style>\n",
       "<table border=\"1\" class=\"dataframe\">\n",
       "  <thead>\n",
       "    <tr style=\"text-align: right;\">\n",
       "      <th></th>\n",
       "      <th>mean</th>\n",
       "      <th>diff</th>\n",
       "      <th>risk</th>\n",
       "    </tr>\n",
       "    <tr>\n",
       "      <th>type_income</th>\n",
       "      <th></th>\n",
       "      <th></th>\n",
       "      <th></th>\n",
       "    </tr>\n",
       "  </thead>\n",
       "  <tbody>\n",
       "    <tr>\n",
       "      <th>Commercial associate</th>\n",
       "      <td>0.125</td>\n",
       "      <td>0.029</td>\n",
       "      <td>1.302</td>\n",
       "    </tr>\n",
       "    <tr>\n",
       "      <th>Pensioner</th>\n",
       "      <td>0.136</td>\n",
       "      <td>0.040</td>\n",
       "      <td>1.419</td>\n",
       "    </tr>\n",
       "    <tr>\n",
       "      <th>State servant</th>\n",
       "      <td>0.040</td>\n",
       "      <td>-0.056</td>\n",
       "      <td>0.418</td>\n",
       "    </tr>\n",
       "    <tr>\n",
       "      <th>Working</th>\n",
       "      <td>0.076</td>\n",
       "      <td>-0.019</td>\n",
       "      <td>0.798</td>\n",
       "    </tr>\n",
       "  </tbody>\n",
       "</table>\n",
       "</div>"
      ],
      "text/plain": [
       "                       mean   diff   risk\n",
       "type_income                              \n",
       "Commercial associate  0.125  0.029  1.302\n",
       "Pensioner             0.136  0.040  1.419\n",
       "State servant         0.040 -0.056  0.418\n",
       "Working               0.076 -0.019  0.798"
      ]
     },
     "metadata": {},
     "output_type": "display_data"
    },
    {
     "data": {
      "text/html": [
       "<div>\n",
       "<style scoped>\n",
       "    .dataframe tbody tr th:only-of-type {\n",
       "        vertical-align: middle;\n",
       "    }\n",
       "\n",
       "    .dataframe tbody tr th {\n",
       "        vertical-align: top;\n",
       "    }\n",
       "\n",
       "    .dataframe thead th {\n",
       "        text-align: right;\n",
       "    }\n",
       "</style>\n",
       "<table border=\"1\" class=\"dataframe\">\n",
       "  <thead>\n",
       "    <tr style=\"text-align: right;\">\n",
       "      <th></th>\n",
       "      <th>mean</th>\n",
       "      <th>diff</th>\n",
       "      <th>risk</th>\n",
       "    </tr>\n",
       "    <tr>\n",
       "      <th>education</th>\n",
       "      <th></th>\n",
       "      <th></th>\n",
       "      <th></th>\n",
       "    </tr>\n",
       "  </thead>\n",
       "  <tbody>\n",
       "    <tr>\n",
       "      <th>Academic degree</th>\n",
       "      <td>0.000</td>\n",
       "      <td>-0.096</td>\n",
       "      <td>0.000</td>\n",
       "    </tr>\n",
       "    <tr>\n",
       "      <th>Higher education</th>\n",
       "      <td>0.108</td>\n",
       "      <td>0.013</td>\n",
       "      <td>1.132</td>\n",
       "    </tr>\n",
       "    <tr>\n",
       "      <th>Incomplete higher</th>\n",
       "      <td>0.049</td>\n",
       "      <td>-0.047</td>\n",
       "      <td>0.514</td>\n",
       "    </tr>\n",
       "    <tr>\n",
       "      <th>Lower secondary</th>\n",
       "      <td>0.278</td>\n",
       "      <td>0.182</td>\n",
       "      <td>2.902</td>\n",
       "    </tr>\n",
       "    <tr>\n",
       "      <th>Secondary / secondary special</th>\n",
       "      <td>0.090</td>\n",
       "      <td>-0.005</td>\n",
       "      <td>0.945</td>\n",
       "    </tr>\n",
       "  </tbody>\n",
       "</table>\n",
       "</div>"
      ],
      "text/plain": [
       "                                mean   diff   risk\n",
       "education                                         \n",
       "Academic degree                0.000 -0.096  0.000\n",
       "Higher education               0.108  0.013  1.132\n",
       "Incomplete higher              0.049 -0.047  0.514\n",
       "Lower secondary                0.278  0.182  2.902\n",
       "Secondary / secondary special  0.090 -0.005  0.945"
      ]
     },
     "metadata": {},
     "output_type": "display_data"
    },
    {
     "data": {
      "text/html": [
       "<div>\n",
       "<style scoped>\n",
       "    .dataframe tbody tr th:only-of-type {\n",
       "        vertical-align: middle;\n",
       "    }\n",
       "\n",
       "    .dataframe tbody tr th {\n",
       "        vertical-align: top;\n",
       "    }\n",
       "\n",
       "    .dataframe thead th {\n",
       "        text-align: right;\n",
       "    }\n",
       "</style>\n",
       "<table border=\"1\" class=\"dataframe\">\n",
       "  <thead>\n",
       "    <tr style=\"text-align: right;\">\n",
       "      <th></th>\n",
       "      <th>mean</th>\n",
       "      <th>diff</th>\n",
       "      <th>risk</th>\n",
       "    </tr>\n",
       "    <tr>\n",
       "      <th>marital_status</th>\n",
       "      <th></th>\n",
       "      <th></th>\n",
       "      <th></th>\n",
       "    </tr>\n",
       "  </thead>\n",
       "  <tbody>\n",
       "    <tr>\n",
       "      <th>Civil marriage</th>\n",
       "      <td>0.043</td>\n",
       "      <td>-0.053</td>\n",
       "      <td>0.449</td>\n",
       "    </tr>\n",
       "    <tr>\n",
       "      <th>Married</th>\n",
       "      <td>0.089</td>\n",
       "      <td>-0.007</td>\n",
       "      <td>0.927</td>\n",
       "    </tr>\n",
       "    <tr>\n",
       "      <th>Separated</th>\n",
       "      <td>0.118</td>\n",
       "      <td>0.022</td>\n",
       "      <td>1.229</td>\n",
       "    </tr>\n",
       "    <tr>\n",
       "      <th>Single / not married</th>\n",
       "      <td>0.139</td>\n",
       "      <td>0.044</td>\n",
       "      <td>1.455</td>\n",
       "    </tr>\n",
       "    <tr>\n",
       "      <th>Widow</th>\n",
       "      <td>0.108</td>\n",
       "      <td>0.012</td>\n",
       "      <td>1.125</td>\n",
       "    </tr>\n",
       "  </tbody>\n",
       "</table>\n",
       "</div>"
      ],
      "text/plain": [
       "                       mean   diff   risk\n",
       "marital_status                           \n",
       "Civil marriage        0.043 -0.053  0.449\n",
       "Married               0.089 -0.007  0.927\n",
       "Separated             0.118  0.022  1.229\n",
       "Single / not married  0.139  0.044  1.455\n",
       "Widow                 0.108  0.012  1.125"
      ]
     },
     "metadata": {},
     "output_type": "display_data"
    },
    {
     "data": {
      "text/html": [
       "<div>\n",
       "<style scoped>\n",
       "    .dataframe tbody tr th:only-of-type {\n",
       "        vertical-align: middle;\n",
       "    }\n",
       "\n",
       "    .dataframe tbody tr th {\n",
       "        vertical-align: top;\n",
       "    }\n",
       "\n",
       "    .dataframe thead th {\n",
       "        text-align: right;\n",
       "    }\n",
       "</style>\n",
       "<table border=\"1\" class=\"dataframe\">\n",
       "  <thead>\n",
       "    <tr style=\"text-align: right;\">\n",
       "      <th></th>\n",
       "      <th>mean</th>\n",
       "      <th>diff</th>\n",
       "      <th>risk</th>\n",
       "    </tr>\n",
       "    <tr>\n",
       "      <th>housing_type</th>\n",
       "      <th></th>\n",
       "      <th></th>\n",
       "      <th></th>\n",
       "    </tr>\n",
       "  </thead>\n",
       "  <tbody>\n",
       "    <tr>\n",
       "      <th>Co-op apartment</th>\n",
       "      <td>0.333</td>\n",
       "      <td>0.238</td>\n",
       "      <td>3.482</td>\n",
       "    </tr>\n",
       "    <tr>\n",
       "      <th>House / apartment</th>\n",
       "      <td>0.091</td>\n",
       "      <td>-0.004</td>\n",
       "      <td>0.954</td>\n",
       "    </tr>\n",
       "    <tr>\n",
       "      <th>Municipal apartment</th>\n",
       "      <td>0.255</td>\n",
       "      <td>0.160</td>\n",
       "      <td>2.667</td>\n",
       "    </tr>\n",
       "    <tr>\n",
       "      <th>Office apartment</th>\n",
       "      <td>0.125</td>\n",
       "      <td>0.029</td>\n",
       "      <td>1.306</td>\n",
       "    </tr>\n",
       "    <tr>\n",
       "      <th>Rented apartment</th>\n",
       "      <td>0.150</td>\n",
       "      <td>0.054</td>\n",
       "      <td>1.567</td>\n",
       "    </tr>\n",
       "    <tr>\n",
       "      <th>With parents</th>\n",
       "      <td>0.041</td>\n",
       "      <td>-0.055</td>\n",
       "      <td>0.424</td>\n",
       "    </tr>\n",
       "  </tbody>\n",
       "</table>\n",
       "</div>"
      ],
      "text/plain": [
       "                      mean   diff   risk\n",
       "housing_type                            \n",
       "Co-op apartment      0.333  0.238  3.482\n",
       "House / apartment    0.091 -0.004  0.954\n",
       "Municipal apartment  0.255  0.160  2.667\n",
       "Office apartment     0.125  0.029  1.306\n",
       "Rented apartment     0.150  0.054  1.567\n",
       "With parents         0.041 -0.055  0.424"
      ]
     },
     "metadata": {},
     "output_type": "display_data"
    },
    {
     "data": {
      "text/html": [
       "<div>\n",
       "<style scoped>\n",
       "    .dataframe tbody tr th:only-of-type {\n",
       "        vertical-align: middle;\n",
       "    }\n",
       "\n",
       "    .dataframe tbody tr th {\n",
       "        vertical-align: top;\n",
       "    }\n",
       "\n",
       "    .dataframe thead th {\n",
       "        text-align: right;\n",
       "    }\n",
       "</style>\n",
       "<table border=\"1\" class=\"dataframe\">\n",
       "  <thead>\n",
       "    <tr style=\"text-align: right;\">\n",
       "      <th></th>\n",
       "      <th>mean</th>\n",
       "      <th>diff</th>\n",
       "      <th>risk</th>\n",
       "    </tr>\n",
       "    <tr>\n",
       "      <th>type_occupation</th>\n",
       "      <th></th>\n",
       "      <th></th>\n",
       "      <th></th>\n",
       "    </tr>\n",
       "  </thead>\n",
       "  <tbody>\n",
       "    <tr>\n",
       "      <th>Accountants</th>\n",
       "      <td>0.122</td>\n",
       "      <td>0.026</td>\n",
       "      <td>1.274</td>\n",
       "    </tr>\n",
       "    <tr>\n",
       "      <th>Cleaning staff</th>\n",
       "      <td>0.100</td>\n",
       "      <td>0.004</td>\n",
       "      <td>1.045</td>\n",
       "    </tr>\n",
       "    <tr>\n",
       "      <th>Cooking staff</th>\n",
       "      <td>0.150</td>\n",
       "      <td>0.054</td>\n",
       "      <td>1.567</td>\n",
       "    </tr>\n",
       "    <tr>\n",
       "      <th>Core staff</th>\n",
       "      <td>0.092</td>\n",
       "      <td>-0.004</td>\n",
       "      <td>0.956</td>\n",
       "    </tr>\n",
       "    <tr>\n",
       "      <th>Drivers</th>\n",
       "      <td>0.078</td>\n",
       "      <td>-0.018</td>\n",
       "      <td>0.814</td>\n",
       "    </tr>\n",
       "    <tr>\n",
       "      <th>HR staff</th>\n",
       "      <td>0.000</td>\n",
       "      <td>-0.096</td>\n",
       "      <td>0.000</td>\n",
       "    </tr>\n",
       "    <tr>\n",
       "      <th>High skill tech staff</th>\n",
       "      <td>0.086</td>\n",
       "      <td>-0.010</td>\n",
       "      <td>0.901</td>\n",
       "    </tr>\n",
       "    <tr>\n",
       "      <th>IT staff</th>\n",
       "      <td>1.000</td>\n",
       "      <td>0.904</td>\n",
       "      <td>10.447</td>\n",
       "    </tr>\n",
       "    <tr>\n",
       "      <th>Laborers</th>\n",
       "      <td>0.092</td>\n",
       "      <td>-0.004</td>\n",
       "      <td>0.958</td>\n",
       "    </tr>\n",
       "    <tr>\n",
       "      <th>Low-skill Laborers</th>\n",
       "      <td>0.222</td>\n",
       "      <td>0.127</td>\n",
       "      <td>2.322</td>\n",
       "    </tr>\n",
       "    <tr>\n",
       "      <th>Managers</th>\n",
       "      <td>0.096</td>\n",
       "      <td>-0.000</td>\n",
       "      <td>0.999</td>\n",
       "    </tr>\n",
       "    <tr>\n",
       "      <th>Medicine staff</th>\n",
       "      <td>0.070</td>\n",
       "      <td>-0.026</td>\n",
       "      <td>0.729</td>\n",
       "    </tr>\n",
       "    <tr>\n",
       "      <th>Private service staff</th>\n",
       "      <td>0.000</td>\n",
       "      <td>-0.096</td>\n",
       "      <td>0.000</td>\n",
       "    </tr>\n",
       "    <tr>\n",
       "      <th>Realty agents</th>\n",
       "      <td>0.000</td>\n",
       "      <td>-0.096</td>\n",
       "      <td>0.000</td>\n",
       "    </tr>\n",
       "    <tr>\n",
       "      <th>Sales staff</th>\n",
       "      <td>0.073</td>\n",
       "      <td>-0.023</td>\n",
       "      <td>0.760</td>\n",
       "    </tr>\n",
       "    <tr>\n",
       "      <th>Secretaries</th>\n",
       "      <td>0.000</td>\n",
       "      <td>-0.096</td>\n",
       "      <td>0.000</td>\n",
       "    </tr>\n",
       "    <tr>\n",
       "      <th>Security staff</th>\n",
       "      <td>0.238</td>\n",
       "      <td>0.142</td>\n",
       "      <td>2.487</td>\n",
       "    </tr>\n",
       "    <tr>\n",
       "      <th>Waiters/barmen staff</th>\n",
       "      <td>0.200</td>\n",
       "      <td>0.104</td>\n",
       "      <td>2.089</td>\n",
       "    </tr>\n",
       "    <tr>\n",
       "      <th>unknown</th>\n",
       "      <td>0.101</td>\n",
       "      <td>0.005</td>\n",
       "      <td>1.054</td>\n",
       "    </tr>\n",
       "  </tbody>\n",
       "</table>\n",
       "</div>"
      ],
      "text/plain": [
       "                        mean   diff    risk\n",
       "type_occupation                            \n",
       "Accountants            0.122  0.026   1.274\n",
       "Cleaning staff         0.100  0.004   1.045\n",
       "Cooking staff          0.150  0.054   1.567\n",
       "Core staff             0.092 -0.004   0.956\n",
       "Drivers                0.078 -0.018   0.814\n",
       "HR staff               0.000 -0.096   0.000\n",
       "High skill tech staff  0.086 -0.010   0.901\n",
       "IT staff               1.000  0.904  10.447\n",
       "Laborers               0.092 -0.004   0.958\n",
       "Low-skill Laborers     0.222  0.127   2.322\n",
       "Managers               0.096 -0.000   0.999\n",
       "Medicine staff         0.070 -0.026   0.729\n",
       "Private service staff  0.000 -0.096   0.000\n",
       "Realty agents          0.000 -0.096   0.000\n",
       "Sales staff            0.073 -0.023   0.760\n",
       "Secretaries            0.000 -0.096   0.000\n",
       "Security staff         0.238  0.142   2.487\n",
       "Waiters/barmen staff   0.200  0.104   2.089\n",
       "unknown                0.101  0.005   1.054"
      ]
     },
     "metadata": {},
     "output_type": "display_data"
    }
   ],
   "source": [
    "for col in categorical:\n",
    "    df_group = df.groupby(by=col).label.agg(['mean'])\n",
    "    df_group['diff'] = df_group['mean'] - global_mean\n",
    "    df_group['risk'] = df_group['mean'] / global_mean\n",
    "    display(round(df_group, 3))"
   ]
  },
  {
   "cell_type": "markdown",
   "id": "065c3023",
   "metadata": {},
   "source": [
    "Upon examining the results we can see that there are no substantial disparities in our **diff** column meaning these features do not hold large significances.\n"
   ]
  },
  {
   "cell_type": "markdown",
   "id": "a5f2e483",
   "metadata": {},
   "source": [
    "### Mutual information\n",
    "\n",
    "Mutual information is a measure of the amount of information that one random variable contains about another random variable. A higher mutual information value indicates a higher dependency between the two variables, whereas a lower value suggests less dependency.\n",
    "\n",
    "Here we will calculate dependency between our credit approval data and categorical features. "
   ]
  },
  {
   "cell_type": "code",
   "execution_count": 52,
   "id": "7dc7dd28",
   "metadata": {},
   "outputs": [
    {
     "data": {
      "text/html": [
       "<div>\n",
       "<style scoped>\n",
       "    .dataframe tbody tr th:only-of-type {\n",
       "        vertical-align: middle;\n",
       "    }\n",
       "\n",
       "    .dataframe tbody tr th {\n",
       "        vertical-align: top;\n",
       "    }\n",
       "\n",
       "    .dataframe thead th {\n",
       "        text-align: right;\n",
       "    }\n",
       "</style>\n",
       "<table border=\"1\" class=\"dataframe\">\n",
       "  <thead>\n",
       "    <tr style=\"text-align: right;\">\n",
       "      <th></th>\n",
       "      <th>MI</th>\n",
       "    </tr>\n",
       "  </thead>\n",
       "  <tbody>\n",
       "    <tr>\n",
       "      <th>type_occupation</th>\n",
       "      <td>0.006772</td>\n",
       "    </tr>\n",
       "    <tr>\n",
       "      <th>housing_type</th>\n",
       "      <td>0.005595</td>\n",
       "    </tr>\n",
       "    <tr>\n",
       "      <th>type_income</th>\n",
       "      <td>0.005341</td>\n",
       "    </tr>\n",
       "    <tr>\n",
       "      <th>marital_status</th>\n",
       "      <td>0.003150</td>\n",
       "    </tr>\n",
       "    <tr>\n",
       "      <th>education</th>\n",
       "      <td>0.002902</td>\n",
       "    </tr>\n",
       "    <tr>\n",
       "      <th>gender</th>\n",
       "      <td>0.001148</td>\n",
       "    </tr>\n",
       "  </tbody>\n",
       "</table>\n",
       "</div>"
      ],
      "text/plain": [
       "                       MI\n",
       "type_occupation  0.006772\n",
       "housing_type     0.005595\n",
       "type_income      0.005341\n",
       "marital_status   0.003150\n",
       "education        0.002902\n",
       "gender           0.001148"
      ]
     },
     "metadata": {},
     "output_type": "display_data"
    }
   ],
   "source": [
    "def calculate_mi(series):\n",
    "    return mutual_info_score(series, df.label)\n",
    "\n",
    "df_mi = df[categorical].apply(calculate_mi)\n",
    "df_mi = df_mi.to_frame(name='MI').sort_values(by='MI', ascending=False)\n",
    "\n",
    "display(df_mi)"
   ]
  },
  {
   "cell_type": "markdown",
   "id": "1cdd7358",
   "metadata": {},
   "source": [
    "The actual score suggests a low dependency between categorical features and approval results. However, we can see which features in comparison to each other are more important for our analysis and can be used in the model. "
   ]
  },
  {
   "cell_type": "markdown",
   "id": "eb1fb1dc",
   "metadata": {},
   "source": [
    "# Working with numerical features"
   ]
  },
  {
   "cell_type": "markdown",
   "id": "8a11d590",
   "metadata": {},
   "source": [
    "Pearson correlation coefficient is primarily used for evaluating the linear relationship between two numerical (continuous) features. It measures the strength and direction of the linear association between two variables. \n",
    "\n",
    "Correlation criteria can be used as a model-agnostic feature importance method by calculating the correlation coefficient between each feature and the target variable, and selecting features with the highest correlation. "
   ]
  },
  {
   "cell_type": "code",
   "execution_count": 53,
   "id": "f50ccadf",
   "metadata": {},
   "outputs": [
    {
     "data": {
      "text/html": [
       "<div>\n",
       "<style scoped>\n",
       "    .dataframe tbody tr th:only-of-type {\n",
       "        vertical-align: middle;\n",
       "    }\n",
       "\n",
       "    .dataframe tbody tr th {\n",
       "        vertical-align: top;\n",
       "    }\n",
       "\n",
       "    .dataframe thead th {\n",
       "        text-align: right;\n",
       "    }\n",
       "</style>\n",
       "<table border=\"1\" class=\"dataframe\">\n",
       "  <thead>\n",
       "    <tr style=\"text-align: right;\">\n",
       "      <th></th>\n",
       "      <th>correlation</th>\n",
       "    </tr>\n",
       "  </thead>\n",
       "  <tbody>\n",
       "    <tr>\n",
       "      <th>employed_years</th>\n",
       "      <td>-0.077943</td>\n",
       "    </tr>\n",
       "    <tr>\n",
       "      <th>employed</th>\n",
       "      <td>-0.028859</td>\n",
       "    </tr>\n",
       "    <tr>\n",
       "      <th>car_owner</th>\n",
       "      <td>-0.022441</td>\n",
       "    </tr>\n",
       "    <tr>\n",
       "      <th>family_members</th>\n",
       "      <td>-0.021438</td>\n",
       "    </tr>\n",
       "    <tr>\n",
       "      <th>work_phone</th>\n",
       "      <td>-0.012750</td>\n",
       "    </tr>\n",
       "    <tr>\n",
       "      <th>propert_owner</th>\n",
       "      <td>-0.010626</td>\n",
       "    </tr>\n",
       "    <tr>\n",
       "      <th>children</th>\n",
       "      <td>-0.009603</td>\n",
       "    </tr>\n",
       "    <tr>\n",
       "      <th>phone</th>\n",
       "      <td>0.011339</td>\n",
       "    </tr>\n",
       "    <tr>\n",
       "      <th>log_income</th>\n",
       "      <td>0.017084</td>\n",
       "    </tr>\n",
       "    <tr>\n",
       "      <th>email_id</th>\n",
       "      <td>0.021562</td>\n",
       "    </tr>\n",
       "    <tr>\n",
       "      <th>unemployed</th>\n",
       "      <td>0.028859</td>\n",
       "    </tr>\n",
       "    <tr>\n",
       "      <th>birthday_count</th>\n",
       "      <td>0.053258</td>\n",
       "    </tr>\n",
       "  </tbody>\n",
       "</table>\n",
       "</div>"
      ],
      "text/plain": [
       "                correlation\n",
       "employed_years    -0.077943\n",
       "employed          -0.028859\n",
       "car_owner         -0.022441\n",
       "family_members    -0.021438\n",
       "work_phone        -0.012750\n",
       "propert_owner     -0.010626\n",
       "children          -0.009603\n",
       "phone              0.011339\n",
       "log_income         0.017084\n",
       "email_id           0.021562\n",
       "unemployed         0.028859\n",
       "birthday_count     0.053258"
      ]
     },
     "execution_count": 53,
     "metadata": {},
     "output_type": "execute_result"
    }
   ],
   "source": [
    "df[numerical].corrwith(df.label).to_frame('correlation').sort_values(by='correlation')"
   ]
  },
  {
   "cell_type": "markdown",
   "id": "905d4053",
   "metadata": {},
   "source": [
    "The coefficient results above show low correlation between target variable and our numerical features."
   ]
  },
  {
   "cell_type": "code",
   "execution_count": 54,
   "id": "cd515473",
   "metadata": {},
   "outputs": [
    {
     "data": {
      "text/html": [
       "<div>\n",
       "<style scoped>\n",
       "    .dataframe tbody tr th:only-of-type {\n",
       "        vertical-align: middle;\n",
       "    }\n",
       "\n",
       "    .dataframe tbody tr th {\n",
       "        vertical-align: top;\n",
       "    }\n",
       "\n",
       "    .dataframe thead th {\n",
       "        text-align: right;\n",
       "    }\n",
       "</style>\n",
       "<table border=\"1\" class=\"dataframe\">\n",
       "  <thead>\n",
       "    <tr style=\"text-align: right;\">\n",
       "      <th>label</th>\n",
       "      <th>0</th>\n",
       "      <th>1</th>\n",
       "    </tr>\n",
       "  </thead>\n",
       "  <tbody>\n",
       "    <tr>\n",
       "      <th>car_owner</th>\n",
       "      <td>0.400962</td>\n",
       "      <td>0.363636</td>\n",
       "    </tr>\n",
       "    <tr>\n",
       "      <th>propert_owner</th>\n",
       "      <td>0.653569</td>\n",
       "      <td>0.636364</td>\n",
       "    </tr>\n",
       "    <tr>\n",
       "      <th>children</th>\n",
       "      <td>0.427426</td>\n",
       "      <td>0.401515</td>\n",
       "    </tr>\n",
       "    <tr>\n",
       "      <th>birthday_count</th>\n",
       "      <td>43.764060</td>\n",
       "      <td>45.839987</td>\n",
       "    </tr>\n",
       "    <tr>\n",
       "      <th>work_phone</th>\n",
       "      <td>0.206897</td>\n",
       "      <td>0.189394</td>\n",
       "    </tr>\n",
       "    <tr>\n",
       "      <th>phone</th>\n",
       "      <td>0.307939</td>\n",
       "      <td>0.325758</td>\n",
       "    </tr>\n",
       "    <tr>\n",
       "      <th>email_id</th>\n",
       "      <td>0.092221</td>\n",
       "      <td>0.113636</td>\n",
       "    </tr>\n",
       "    <tr>\n",
       "      <th>family_members</th>\n",
       "      <td>2.183641</td>\n",
       "      <td>2.113636</td>\n",
       "    </tr>\n",
       "    <tr>\n",
       "      <th>unemployed</th>\n",
       "      <td>0.167602</td>\n",
       "      <td>0.204545</td>\n",
       "    </tr>\n",
       "    <tr>\n",
       "      <th>employed</th>\n",
       "      <td>0.832398</td>\n",
       "      <td>0.795455</td>\n",
       "    </tr>\n",
       "    <tr>\n",
       "      <th>employed_years</th>\n",
       "      <td>6.169447</td>\n",
       "      <td>4.440152</td>\n",
       "    </tr>\n",
       "    <tr>\n",
       "      <th>log_income</th>\n",
       "      <td>12.027321</td>\n",
       "      <td>12.055107</td>\n",
       "    </tr>\n",
       "  </tbody>\n",
       "</table>\n",
       "</div>"
      ],
      "text/plain": [
       "label                   0          1\n",
       "car_owner        0.400962   0.363636\n",
       "propert_owner    0.653569   0.636364\n",
       "children         0.427426   0.401515\n",
       "birthday_count  43.764060  45.839987\n",
       "work_phone       0.206897   0.189394\n",
       "phone            0.307939   0.325758\n",
       "email_id         0.092221   0.113636\n",
       "family_members   2.183641   2.113636\n",
       "unemployed       0.167602   0.204545\n",
       "employed         0.832398   0.795455\n",
       "employed_years   6.169447   4.440152\n",
       "log_income      12.027321  12.055107"
      ]
     },
     "execution_count": 54,
     "metadata": {},
     "output_type": "execute_result"
    }
   ],
   "source": [
    "df.groupby(by='label')[numerical].mean().T"
   ]
  },
  {
   "cell_type": "markdown",
   "id": "a236d823",
   "metadata": {},
   "source": [
    "# One-Hot encoding\n",
    "\n",
    "One-hot encoding is a technique used to convert categorical data into a numerical format that can be used by machine learning algorithms.\n",
    "\n",
    "The process of one-hot encoding involves creating binary columns for each category, where each column represents one category and is either 1 (if the category is present) or 0 (if the category is not present). This approach prevents the model from assuming any ordinal relationship between the categories.\n",
    "\n",
    "The model also keep numerical values unchanged."
   ]
  },
  {
   "cell_type": "markdown",
   "id": "6120935c",
   "metadata": {},
   "source": [
    "For this purpose we will use DictVectorizer. In the scikit-learn library it is used to convert a dictionary or an array of dictionaries into a NumPy array. It encodes categorical (string or numerical) features as a one-hot numeric array, which can then be used as input for machine learning models.\n",
    "\n",
    "First we need to convert our data frame in multiple dictionaries, following that we will fit DictVectorizer."
   ]
  },
  {
   "cell_type": "code",
   "execution_count": 56,
   "id": "d7c19924",
   "metadata": {},
   "outputs": [],
   "source": [
    "X_dict = df[categorical + numerical].to_dict(orient='records')"
   ]
  },
  {
   "cell_type": "code",
   "execution_count": 57,
   "id": "5ab07937",
   "metadata": {},
   "outputs": [
    {
     "data": {
      "text/plain": [
       "{'gender': 'M',\n",
       " 'type_income': 'State servant',\n",
       " 'education': 'Secondary / secondary special',\n",
       " 'marital_status': 'Married',\n",
       " 'housing_type': 'House / apartment',\n",
       " 'type_occupation': 'Core staff',\n",
       " 'car_owner': 1,\n",
       " 'propert_owner': 1,\n",
       " 'children': 0,\n",
       " 'birthday_count': 40.0,\n",
       " 'work_phone': 0,\n",
       " 'phone': 0,\n",
       " 'email_id': 0,\n",
       " 'family_members': 2,\n",
       " 'unemployed': 0,\n",
       " 'employed': 1,\n",
       " 'employed_years': 6.0,\n",
       " 'log_income': 12.218500103788143}"
      ]
     },
     "execution_count": 57,
     "metadata": {},
     "output_type": "execute_result"
    }
   ],
   "source": [
    "X_dict[0]"
   ]
  },
  {
   "cell_type": "code",
   "execution_count": 58,
   "id": "a3698bbd",
   "metadata": {},
   "outputs": [
    {
     "data": {
      "text/html": [
       "<style>#sk-container-id-1 {color: black;}#sk-container-id-1 pre{padding: 0;}#sk-container-id-1 div.sk-toggleable {background-color: white;}#sk-container-id-1 label.sk-toggleable__label {cursor: pointer;display: block;width: 100%;margin-bottom: 0;padding: 0.3em;box-sizing: border-box;text-align: center;}#sk-container-id-1 label.sk-toggleable__label-arrow:before {content: \"▸\";float: left;margin-right: 0.25em;color: #696969;}#sk-container-id-1 label.sk-toggleable__label-arrow:hover:before {color: black;}#sk-container-id-1 div.sk-estimator:hover label.sk-toggleable__label-arrow:before {color: black;}#sk-container-id-1 div.sk-toggleable__content {max-height: 0;max-width: 0;overflow: hidden;text-align: left;background-color: #f0f8ff;}#sk-container-id-1 div.sk-toggleable__content pre {margin: 0.2em;color: black;border-radius: 0.25em;background-color: #f0f8ff;}#sk-container-id-1 input.sk-toggleable__control:checked~div.sk-toggleable__content {max-height: 200px;max-width: 100%;overflow: auto;}#sk-container-id-1 input.sk-toggleable__control:checked~label.sk-toggleable__label-arrow:before {content: \"▾\";}#sk-container-id-1 div.sk-estimator input.sk-toggleable__control:checked~label.sk-toggleable__label {background-color: #d4ebff;}#sk-container-id-1 div.sk-label input.sk-toggleable__control:checked~label.sk-toggleable__label {background-color: #d4ebff;}#sk-container-id-1 input.sk-hidden--visually {border: 0;clip: rect(1px 1px 1px 1px);clip: rect(1px, 1px, 1px, 1px);height: 1px;margin: -1px;overflow: hidden;padding: 0;position: absolute;width: 1px;}#sk-container-id-1 div.sk-estimator {font-family: monospace;background-color: #f0f8ff;border: 1px dotted black;border-radius: 0.25em;box-sizing: border-box;margin-bottom: 0.5em;}#sk-container-id-1 div.sk-estimator:hover {background-color: #d4ebff;}#sk-container-id-1 div.sk-parallel-item::after {content: \"\";width: 100%;border-bottom: 1px solid gray;flex-grow: 1;}#sk-container-id-1 div.sk-label:hover label.sk-toggleable__label {background-color: #d4ebff;}#sk-container-id-1 div.sk-serial::before {content: \"\";position: absolute;border-left: 1px solid gray;box-sizing: border-box;top: 0;bottom: 0;left: 50%;z-index: 0;}#sk-container-id-1 div.sk-serial {display: flex;flex-direction: column;align-items: center;background-color: white;padding-right: 0.2em;padding-left: 0.2em;position: relative;}#sk-container-id-1 div.sk-item {position: relative;z-index: 1;}#sk-container-id-1 div.sk-parallel {display: flex;align-items: stretch;justify-content: center;background-color: white;position: relative;}#sk-container-id-1 div.sk-item::before, #sk-container-id-1 div.sk-parallel-item::before {content: \"\";position: absolute;border-left: 1px solid gray;box-sizing: border-box;top: 0;bottom: 0;left: 50%;z-index: -1;}#sk-container-id-1 div.sk-parallel-item {display: flex;flex-direction: column;z-index: 1;position: relative;background-color: white;}#sk-container-id-1 div.sk-parallel-item:first-child::after {align-self: flex-end;width: 50%;}#sk-container-id-1 div.sk-parallel-item:last-child::after {align-self: flex-start;width: 50%;}#sk-container-id-1 div.sk-parallel-item:only-child::after {width: 0;}#sk-container-id-1 div.sk-dashed-wrapped {border: 1px dashed gray;margin: 0 0.4em 0.5em 0.4em;box-sizing: border-box;padding-bottom: 0.4em;background-color: white;}#sk-container-id-1 div.sk-label label {font-family: monospace;font-weight: bold;display: inline-block;line-height: 1.2em;}#sk-container-id-1 div.sk-label-container {text-align: center;}#sk-container-id-1 div.sk-container {/* jupyter's `normalize.less` sets `[hidden] { display: none; }` but bootstrap.min.css set `[hidden] { display: none !important; }` so we also need the `!important` here to be able to override the default hidden behavior on the sphinx rendered scikit-learn.org. See: https://github.com/scikit-learn/scikit-learn/issues/21755 */display: inline-block !important;position: relative;}#sk-container-id-1 div.sk-text-repr-fallback {display: none;}</style><div id=\"sk-container-id-1\" class=\"sk-top-container\"><div class=\"sk-text-repr-fallback\"><pre>DictVectorizer(sparse=False)</pre><b>In a Jupyter environment, please rerun this cell to show the HTML representation or trust the notebook. <br />On GitHub, the HTML representation is unable to render, please try loading this page with nbviewer.org.</b></div><div class=\"sk-container\" hidden><div class=\"sk-item\"><div class=\"sk-estimator sk-toggleable\"><input class=\"sk-toggleable__control sk-hidden--visually\" id=\"sk-estimator-id-1\" type=\"checkbox\" checked><label for=\"sk-estimator-id-1\" class=\"sk-toggleable__label sk-toggleable__label-arrow\">DictVectorizer</label><div class=\"sk-toggleable__content\"><pre>DictVectorizer(sparse=False)</pre></div></div></div></div></div>"
      ],
      "text/plain": [
       "DictVectorizer(sparse=False)"
      ]
     },
     "execution_count": 58,
     "metadata": {},
     "output_type": "execute_result"
    }
   ],
   "source": [
    "dv = DictVectorizer(sparse=False)\n",
    "\n",
    "# When sparse is set to False, the resulting array will be a standard 2D NumPy array.\n",
    "# If sparse is set to True, the resulting array will be a sparse matrix, \n",
    "# which is more memory-efficient for large datasets with many categorical features.\n",
    "\n",
    "dv.fit(X_dict)"
   ]
  },
  {
   "cell_type": "code",
   "execution_count": 59,
   "id": "7764e81e",
   "metadata": {},
   "outputs": [
    {
     "data": {
      "text/plain": [
       "(1379, 53)"
      ]
     },
     "execution_count": 59,
     "metadata": {},
     "output_type": "execute_result"
    }
   ],
   "source": [
    "df_encod = dv.transform(X_dict)\n",
    "df_encod.shape"
   ]
  },
  {
   "cell_type": "code",
   "execution_count": 63,
   "id": "4bc23dbc",
   "metadata": {},
   "outputs": [
    {
     "data": {
      "text/plain": [
       "['birthday_count',\n",
       " 'car_owner',\n",
       " 'children',\n",
       " 'education=Academic degree',\n",
       " 'education=Higher education',\n",
       " 'education=Incomplete higher',\n",
       " 'education=Lower secondary',\n",
       " 'education=Secondary / secondary special',\n",
       " 'email_id',\n",
       " 'employed',\n",
       " 'employed_years',\n",
       " 'family_members',\n",
       " 'gender=F',\n",
       " 'gender=M',\n",
       " 'housing_type=Co-op apartment',\n",
       " 'housing_type=House / apartment',\n",
       " 'housing_type=Municipal apartment',\n",
       " 'housing_type=Office apartment',\n",
       " 'housing_type=Rented apartment',\n",
       " 'housing_type=With parents',\n",
       " 'log_income',\n",
       " 'marital_status=Civil marriage',\n",
       " 'marital_status=Married',\n",
       " 'marital_status=Separated',\n",
       " 'marital_status=Single / not married',\n",
       " 'marital_status=Widow',\n",
       " 'phone',\n",
       " 'propert_owner',\n",
       " 'type_income=Commercial associate',\n",
       " 'type_income=Pensioner',\n",
       " 'type_income=State servant',\n",
       " 'type_income=Working',\n",
       " 'type_occupation=Accountants',\n",
       " 'type_occupation=Cleaning staff',\n",
       " 'type_occupation=Cooking staff',\n",
       " 'type_occupation=Core staff',\n",
       " 'type_occupation=Drivers',\n",
       " 'type_occupation=HR staff',\n",
       " 'type_occupation=High skill tech staff',\n",
       " 'type_occupation=IT staff',\n",
       " 'type_occupation=Laborers',\n",
       " 'type_occupation=Low-skill Laborers',\n",
       " 'type_occupation=Managers',\n",
       " 'type_occupation=Medicine staff',\n",
       " 'type_occupation=Private service staff',\n",
       " 'type_occupation=Realty agents',\n",
       " 'type_occupation=Sales staff',\n",
       " 'type_occupation=Secretaries',\n",
       " 'type_occupation=Security staff',\n",
       " 'type_occupation=Waiters/barmen staff',\n",
       " 'type_occupation=unknown',\n",
       " 'unemployed',\n",
       " 'work_phone']"
      ]
     },
     "execution_count": 63,
     "metadata": {},
     "output_type": "execute_result"
    }
   ],
   "source": [
    "dv.get_feature_names_out().tolist()"
   ]
  },
  {
   "cell_type": "markdown",
   "id": "a1e96dff",
   "metadata": {},
   "source": [
    "# Setting up validation framework"
   ]
  },
  {
   "cell_type": "code",
   "execution_count": 65,
   "id": "032a1fc8",
   "metadata": {},
   "outputs": [],
   "source": [
    "X_train, X_test, y_train, y_test = train_test_split(df_encod, df.label, test_size=0.2, random_state=1)"
   ]
  },
  {
   "cell_type": "code",
   "execution_count": 92,
   "id": "b34fd170",
   "metadata": {},
   "outputs": [
    {
     "name": "stdout",
     "output_type": "stream",
     "text": [
      "Total length of data frame 1379\n",
      "Training set 1103\n",
      "Test set 276\n",
      "Sum of train and test sets 1379\n",
      "Target variables 1103\n"
     ]
    }
   ],
   "source": [
    "print('Total length of data frame', len(df))\n",
    "print('Training set', len(X_train))\n",
    "print('Test set', len(X_test))\n",
    "print('Sum of train and test sets', len(X_train)+len(X_test))\n",
    "print('Target variables', len(y_train))"
   ]
  },
  {
   "cell_type": "markdown",
   "id": "1e3b77ff",
   "metadata": {},
   "source": [
    "# Training logistic regression"
   ]
  },
  {
   "cell_type": "code",
   "execution_count": 70,
   "id": "41d37368",
   "metadata": {},
   "outputs": [
    {
     "data": {
      "text/html": [
       "<style>#sk-container-id-2 {color: black;}#sk-container-id-2 pre{padding: 0;}#sk-container-id-2 div.sk-toggleable {background-color: white;}#sk-container-id-2 label.sk-toggleable__label {cursor: pointer;display: block;width: 100%;margin-bottom: 0;padding: 0.3em;box-sizing: border-box;text-align: center;}#sk-container-id-2 label.sk-toggleable__label-arrow:before {content: \"▸\";float: left;margin-right: 0.25em;color: #696969;}#sk-container-id-2 label.sk-toggleable__label-arrow:hover:before {color: black;}#sk-container-id-2 div.sk-estimator:hover label.sk-toggleable__label-arrow:before {color: black;}#sk-container-id-2 div.sk-toggleable__content {max-height: 0;max-width: 0;overflow: hidden;text-align: left;background-color: #f0f8ff;}#sk-container-id-2 div.sk-toggleable__content pre {margin: 0.2em;color: black;border-radius: 0.25em;background-color: #f0f8ff;}#sk-container-id-2 input.sk-toggleable__control:checked~div.sk-toggleable__content {max-height: 200px;max-width: 100%;overflow: auto;}#sk-container-id-2 input.sk-toggleable__control:checked~label.sk-toggleable__label-arrow:before {content: \"▾\";}#sk-container-id-2 div.sk-estimator input.sk-toggleable__control:checked~label.sk-toggleable__label {background-color: #d4ebff;}#sk-container-id-2 div.sk-label input.sk-toggleable__control:checked~label.sk-toggleable__label {background-color: #d4ebff;}#sk-container-id-2 input.sk-hidden--visually {border: 0;clip: rect(1px 1px 1px 1px);clip: rect(1px, 1px, 1px, 1px);height: 1px;margin: -1px;overflow: hidden;padding: 0;position: absolute;width: 1px;}#sk-container-id-2 div.sk-estimator {font-family: monospace;background-color: #f0f8ff;border: 1px dotted black;border-radius: 0.25em;box-sizing: border-box;margin-bottom: 0.5em;}#sk-container-id-2 div.sk-estimator:hover {background-color: #d4ebff;}#sk-container-id-2 div.sk-parallel-item::after {content: \"\";width: 100%;border-bottom: 1px solid gray;flex-grow: 1;}#sk-container-id-2 div.sk-label:hover label.sk-toggleable__label {background-color: #d4ebff;}#sk-container-id-2 div.sk-serial::before {content: \"\";position: absolute;border-left: 1px solid gray;box-sizing: border-box;top: 0;bottom: 0;left: 50%;z-index: 0;}#sk-container-id-2 div.sk-serial {display: flex;flex-direction: column;align-items: center;background-color: white;padding-right: 0.2em;padding-left: 0.2em;position: relative;}#sk-container-id-2 div.sk-item {position: relative;z-index: 1;}#sk-container-id-2 div.sk-parallel {display: flex;align-items: stretch;justify-content: center;background-color: white;position: relative;}#sk-container-id-2 div.sk-item::before, #sk-container-id-2 div.sk-parallel-item::before {content: \"\";position: absolute;border-left: 1px solid gray;box-sizing: border-box;top: 0;bottom: 0;left: 50%;z-index: -1;}#sk-container-id-2 div.sk-parallel-item {display: flex;flex-direction: column;z-index: 1;position: relative;background-color: white;}#sk-container-id-2 div.sk-parallel-item:first-child::after {align-self: flex-end;width: 50%;}#sk-container-id-2 div.sk-parallel-item:last-child::after {align-self: flex-start;width: 50%;}#sk-container-id-2 div.sk-parallel-item:only-child::after {width: 0;}#sk-container-id-2 div.sk-dashed-wrapped {border: 1px dashed gray;margin: 0 0.4em 0.5em 0.4em;box-sizing: border-box;padding-bottom: 0.4em;background-color: white;}#sk-container-id-2 div.sk-label label {font-family: monospace;font-weight: bold;display: inline-block;line-height: 1.2em;}#sk-container-id-2 div.sk-label-container {text-align: center;}#sk-container-id-2 div.sk-container {/* jupyter's `normalize.less` sets `[hidden] { display: none; }` but bootstrap.min.css set `[hidden] { display: none !important; }` so we also need the `!important` here to be able to override the default hidden behavior on the sphinx rendered scikit-learn.org. See: https://github.com/scikit-learn/scikit-learn/issues/21755 */display: inline-block !important;position: relative;}#sk-container-id-2 div.sk-text-repr-fallback {display: none;}</style><div id=\"sk-container-id-2\" class=\"sk-top-container\"><div class=\"sk-text-repr-fallback\"><pre>LogisticRegression(random_state=10, solver=&#x27;liblinear&#x27;)</pre><b>In a Jupyter environment, please rerun this cell to show the HTML representation or trust the notebook. <br />On GitHub, the HTML representation is unable to render, please try loading this page with nbviewer.org.</b></div><div class=\"sk-container\" hidden><div class=\"sk-item\"><div class=\"sk-estimator sk-toggleable\"><input class=\"sk-toggleable__control sk-hidden--visually\" id=\"sk-estimator-id-2\" type=\"checkbox\" checked><label for=\"sk-estimator-id-2\" class=\"sk-toggleable__label sk-toggleable__label-arrow\">LogisticRegression</label><div class=\"sk-toggleable__content\"><pre>LogisticRegression(random_state=10, solver=&#x27;liblinear&#x27;)</pre></div></div></div></div></div>"
      ],
      "text/plain": [
       "LogisticRegression(random_state=10, solver='liblinear')"
      ]
     },
     "execution_count": 70,
     "metadata": {},
     "output_type": "execute_result"
    }
   ],
   "source": [
    "model = LogisticRegression(solver='liblinear', random_state=10)\n",
    "model.fit(X_train, y_train)"
   ]
  },
  {
   "cell_type": "code",
   "execution_count": 71,
   "id": "47d70137",
   "metadata": {},
   "outputs": [
    {
     "name": "stdout",
     "output_type": "stream",
     "text": [
      "Classification Report\n",
      "\n",
      "              precision    recall  f1-score   support\n",
      "\n",
      "           0       0.88      1.00      0.94       244\n",
      "           1       0.00      0.00      0.00        32\n",
      "\n",
      "    accuracy                           0.88       276\n",
      "   macro avg       0.44      0.50      0.47       276\n",
      "weighted avg       0.78      0.88      0.83       276\n",
      "\n"
     ]
    }
   ],
   "source": [
    "from sklearn.metrics import confusion_matrix, classification_report \n",
    "predictions = model.predict(X_test) \n",
    "  \n",
    "print('Classification Report')\n",
    "print('')\n",
    "print(classification_report(y_test, predictions)) "
   ]
  },
  {
   "cell_type": "markdown",
   "id": "909f44e0",
   "metadata": {},
   "source": [
    "The imbalanced dataset might lead to misleading precision and recall results. We should take steps to solve this problem."
   ]
  },
  {
   "cell_type": "markdown",
   "id": "197ee00b",
   "metadata": {},
   "source": [
    "### Working with Imbalanced Data"
   ]
  },
  {
   "cell_type": "markdown",
   "id": "43e46fd1",
   "metadata": {},
   "source": [
    "SMOTE (Synthetic Minority Over-sampling Technique) is a common method used to tackle imbalanced datasets. Its main job is to balance the number of samples in different classes by creating more copies of the minority class. It does this by  synthesising new examples that are combinations of the existing ones. This helps to ensure that the model doesn't become biased towards the majority class and can learn from the minority class as well."
   ]
  },
  {
   "cell_type": "code",
   "execution_count": 72,
   "id": "ae49b835",
   "metadata": {},
   "outputs": [],
   "source": [
    "sm = SMOTE(random_state = 10) \n",
    "X_train_res, y_train_res = sm.fit_resample(X_train, y_train.ravel()) "
   ]
  },
  {
   "cell_type": "code",
   "execution_count": 73,
   "id": "2ea4a364",
   "metadata": {},
   "outputs": [
    {
     "name": "stdout",
     "output_type": "stream",
     "text": [
      "Report after oversampling\n",
      "\n",
      "              precision    recall  f1-score   support\n",
      "\n",
      "           0       0.89      0.70      0.78       244\n",
      "           1       0.12      0.31      0.17        32\n",
      "\n",
      "    accuracy                           0.66       276\n",
      "   macro avg       0.50      0.51      0.48       276\n",
      "weighted avg       0.80      0.66      0.71       276\n",
      "\n"
     ]
    }
   ],
   "source": [
    "lr1 = LogisticRegression() \n",
    "lr1.fit(X_train_res, y_train_res.ravel()) \n",
    "predictions = lr1.predict(X_test) \n",
    "\n",
    "print('Report after oversampling')\n",
    "print('')\n",
    "print(classification_report(y_test, predictions)) "
   ]
  },
  {
   "cell_type": "code",
   "execution_count": 74,
   "id": "602e2aa6",
   "metadata": {},
   "outputs": [
    {
     "name": "stdout",
     "output_type": "stream",
     "text": [
      "Number of '1' labels before oversampling: 100\n",
      "Number of '0' labels before oversampling: 1003 \n",
      "\n",
      "Number of '1' labels after oversampling: 1003\n",
      "Number of '0' labels after oversampling: 1003\n"
     ]
    }
   ],
   "source": [
    "print(\"Number of '1' labels before oversampling: {}\".format(sum(y_train == 1))) \n",
    "print(\"Number of '0' labels before oversampling: {} \\n\".format(sum(y_train == 0))) \n",
    "  \n",
    "print(\"Number of '1' labels after oversampling: {}\".format(sum(y_train_res == 1))) \n",
    "print(\"Number of '0' labels after oversampling: {}\".format(sum(y_train_res == 0))) "
   ]
  },
  {
   "cell_type": "code",
   "execution_count": 75,
   "id": "e28c452b",
   "metadata": {},
   "outputs": [
    {
     "name": "stdout",
     "output_type": "stream",
     "text": [
      "Number of '1' labels before undersampling: 100\n",
      "Number of '0' labels before undersampling: 1003 \n",
      "\n",
      "Number of '1' labels after undersampling: 100\n",
      "Number of '0' labels after undersampling: 100\n"
     ]
    }
   ],
   "source": [
    "nr = NearMiss() \n",
    "  \n",
    "X_train_miss, y_train_miss = nr.fit_resample(X_train, y_train.ravel()) \n",
    "\n",
    "print(\"Number of '1' labels before undersampling: {}\".format(sum(y_train == 1))) \n",
    "print(\"Number of '0' labels before undersampling: {} \\n\".format(sum(y_train == 0))) \n",
    "\n",
    "print(\"Number of '1' labels after undersampling: {}\".format(sum(y_train_miss == 1))) \n",
    "print(\"Number of '0' labels after undersampling: {}\".format(sum(y_train_miss == 0))) "
   ]
  },
  {
   "cell_type": "code",
   "execution_count": 76,
   "id": "cbeee0cd",
   "metadata": {},
   "outputs": [
    {
     "name": "stdout",
     "output_type": "stream",
     "text": [
      "Report after undersampling\n",
      "\n",
      "              precision    recall  f1-score   support\n",
      "\n",
      "           0       0.90      0.23      0.36       244\n",
      "           1       0.12      0.81      0.21        32\n",
      "\n",
      "    accuracy                           0.29       276\n",
      "   macro avg       0.51      0.52      0.29       276\n",
      "weighted avg       0.81      0.29      0.34       276\n",
      "\n"
     ]
    }
   ],
   "source": [
    "lr2 = LogisticRegression() \n",
    "lr2.fit(X_train_miss, y_train_miss.ravel()) \n",
    "predictions = lr2.predict(X_test) \n",
    "  \n",
    "print('Report after undersampling')\n",
    "print('')\n",
    "print(classification_report(y_test, predictions)) "
   ]
  },
  {
   "cell_type": "markdown",
   "id": "082c9a78",
   "metadata": {},
   "source": [
    "While oversampling produced better results than undersampling, we should consider training alternative models to further evaluate the results."
   ]
  },
  {
   "cell_type": "markdown",
   "id": "ed252546",
   "metadata": {},
   "source": [
    "# Training tree based models"
   ]
  },
  {
   "cell_type": "code",
   "execution_count": 77,
   "id": "d362dc0a",
   "metadata": {},
   "outputs": [],
   "source": [
    "# Let's initialize the models\n",
    "\n",
    "dtc = DecisionTreeClassifier(random_state=10)\n",
    "rfc = RandomForestClassifier(random_state=10)\n",
    "xgb = XGBClassifier(random_state=10, use_label_encoder=False, eval_metric='logloss')"
   ]
  },
  {
   "cell_type": "markdown",
   "id": "fa8867d1",
   "metadata": {},
   "source": [
    "Creating a for loop to train multiple models"
   ]
  },
  {
   "cell_type": "code",
   "execution_count": 78,
   "id": "e81a0350",
   "metadata": {},
   "outputs": [],
   "source": [
    "results = {}\n",
    "\n",
    "models = [('Decision Tree', dtc), ('Random Forest', rfc),('XGBoost', xgb)]\n",
    "\n",
    "\n",
    "for name, clf in models:\n",
    "    clf.fit(X_train, y_train)\n",
    "    y_pred = clf.predict(X_test)\n",
    "\n",
    "    accuracy = accuracy_score(y_test, y_pred)\n",
    "    precision = precision_score(y_test, y_pred)\n",
    "    recall = recall_score(y_test, y_pred)\n",
    "    f1 = f1_score(y_test, y_pred)\n",
    "    roc_auc_test = roc_auc_score(y_test, y_pred)\n",
    "\n",
    "    results[name] = [accuracy, precision, recall, f1 , roc_auc_test]"
   ]
  },
  {
   "cell_type": "code",
   "execution_count": 79,
   "id": "9db3b48c",
   "metadata": {},
   "outputs": [
    {
     "data": {
      "text/html": [
       "<div>\n",
       "<style scoped>\n",
       "    .dataframe tbody tr th:only-of-type {\n",
       "        vertical-align: middle;\n",
       "    }\n",
       "\n",
       "    .dataframe tbody tr th {\n",
       "        vertical-align: top;\n",
       "    }\n",
       "\n",
       "    .dataframe thead th {\n",
       "        text-align: right;\n",
       "    }\n",
       "</style>\n",
       "<table border=\"1\" class=\"dataframe\">\n",
       "  <thead>\n",
       "    <tr style=\"text-align: right;\">\n",
       "      <th></th>\n",
       "      <th>Accuracy</th>\n",
       "      <th>Precision</th>\n",
       "      <th>Recall</th>\n",
       "      <th>F1-Score</th>\n",
       "      <th>ROC AUC Score</th>\n",
       "    </tr>\n",
       "  </thead>\n",
       "  <tbody>\n",
       "    <tr>\n",
       "      <th>Decision Tree</th>\n",
       "      <td>0.782609</td>\n",
       "      <td>0.150000</td>\n",
       "      <td>0.18750</td>\n",
       "      <td>0.166667</td>\n",
       "      <td>0.524078</td>\n",
       "    </tr>\n",
       "    <tr>\n",
       "      <th>Random Forest</th>\n",
       "      <td>0.880435</td>\n",
       "      <td>0.333333</td>\n",
       "      <td>0.03125</td>\n",
       "      <td>0.057143</td>\n",
       "      <td>0.511527</td>\n",
       "    </tr>\n",
       "    <tr>\n",
       "      <th>XGBoost</th>\n",
       "      <td>0.873188</td>\n",
       "      <td>0.285714</td>\n",
       "      <td>0.06250</td>\n",
       "      <td>0.102564</td>\n",
       "      <td>0.521004</td>\n",
       "    </tr>\n",
       "  </tbody>\n",
       "</table>\n",
       "</div>"
      ],
      "text/plain": [
       "               Accuracy  Precision   Recall  F1-Score  ROC AUC Score\n",
       "Decision Tree  0.782609   0.150000  0.18750  0.166667       0.524078\n",
       "Random Forest  0.880435   0.333333  0.03125  0.057143       0.511527\n",
       "XGBoost        0.873188   0.285714  0.06250  0.102564       0.521004"
      ]
     },
     "execution_count": 79,
     "metadata": {},
     "output_type": "execute_result"
    }
   ],
   "source": [
    "results_df = pd.DataFrame(results, index=['Accuracy', 'Precision', 'Recall', 'F1-Score', 'ROC AUC Score']).T\n",
    "results_df"
   ]
  },
  {
   "cell_type": "markdown",
   "id": "8d37d264",
   "metadata": {},
   "source": [
    "# Selecting the model"
   ]
  },
  {
   "cell_type": "markdown",
   "id": "693bf2a8",
   "metadata": {},
   "source": [
    "XGBoost outperformes other models in terms of combination of accuracy, precision, and recall when applied to the dataset.\n",
    "\n",
    "In addition XGBoost offers clear indications of the importance of various features in prediction."
   ]
  },
  {
   "cell_type": "markdown",
   "id": "9eb8699a",
   "metadata": {},
   "source": [
    "Let's visualize the model using confusion matrix and classification report.\n",
    "\n",
    "Confusion matrix is a table used in machine learning to describe the performance of a classification model. It helps visualize the performance of an algorithm by displaying the counts of true and false classifications, specifically for binary classification problems. "
   ]
  },
  {
   "cell_type": "code",
   "execution_count": 81,
   "id": "ddfd6d49",
   "metadata": {},
   "outputs": [
    {
     "data": {
      "text/plain": [
       "<Figure size 600x600 with 0 Axes>"
      ]
     },
     "metadata": {},
     "output_type": "display_data"
    },
    {
     "data": {
      "image/png": "[encoded data removed]",
      "text/plain": [
       "<Figure size 640x480 with 2 Axes>"
      ]
     },
     "metadata": {},
     "output_type": "display_data"
    },
    {
     "name": "stdout",
     "output_type": "stream",
     "text": [
      "\n",
      "\n",
      "Classification Report for XGBoost:\n",
      "\n",
      "              precision    recall  f1-score   support\n",
      "\n",
      "           0       0.89      0.98      0.93       244\n",
      "           1       0.29      0.06      0.10        32\n",
      "\n",
      "    accuracy                           0.87       276\n",
      "   macro avg       0.59      0.52      0.52       276\n",
      "weighted avg       0.82      0.87      0.84       276\n",
      "\n"
     ]
    }
   ],
   "source": [
    "y_pred_xgb = xgb.predict(X_test)\n",
    "\n",
    "cm_xgb = confusion_matrix(y_test, y_pred_xgb)\n",
    "\n",
    "disp = ConfusionMatrixDisplay(confusion_matrix=cm_xgb, display_labels=xgb.classes_)\n",
    "plt.figure(figsize=(6,6))\n",
    "disp.plot(cmap='Blues', values_format='.0f')\n",
    "plt.title(\"Confusion Matrix for XGBoost\")\n",
    "plt.grid(False)\n",
    "plt.show()\n",
    "print(\"\\n\")\n",
    "\n",
    "print(\"Classification Report for XGBoost:\\n\")\n",
    "\n",
    "print(classification_report(y_test, y_pred_xgb))"
   ]
  },
  {
   "cell_type": "markdown",
   "id": "d9239f29",
   "metadata": {},
   "source": [
    "# Tuning model's parameters"
   ]
  },
  {
   "cell_type": "markdown",
   "id": "7945e576",
   "metadata": {},
   "source": [
    "Grid search is a hyperparameter tuning technique used to find the best combination of model hyperparameters that yields the optimal performance for a machine learning model. It works by exhaustively searching through a manually specified subset of the hyperparameter space of a learning algorithm."
   ]
  },
  {
   "cell_type": "code",
   "execution_count": 82,
   "id": "265b5a12",
   "metadata": {},
   "outputs": [],
   "source": [
    "from sklearn.model_selection import GridSearchCV"
   ]
  },
  {
   "cell_type": "code",
   "execution_count": 83,
   "id": "f1a48a22",
   "metadata": {},
   "outputs": [
    {
     "name": "stdout",
     "output_type": "stream",
     "text": [
      "Fitting 5 folds for each of 432 candidates, totalling 2160 fits\n",
      "{'colsample_bytree': 0.9, 'learning_rate': 0.1, 'max_depth': 4, 'n_estimators': 150, 'subsample': 0.9}\n"
     ]
    }
   ],
   "source": [
    "param_grid = {\n",
    "   'learning_rate': [0.01, 0.05, 0.1],\n",
    "   'max_depth': [3, 4, 5, 6],\n",
    "   'n_estimators': [50, 100, 150, 200],\n",
    "   'subsample': [0.8, 0.9, 1],\n",
    "   'colsample_bytree': [0.8, 0.9, 1]\n",
    "\n",
    "\n",
    "\n",
    "clf_xgb = XGBClassifier(random_state=10, use_label_encoder=False, eval_metric='logloss')\n",
    "\n",
    "grid_search = GridSearchCV(clf_xgb, param_grid, scoring='accuracy', cv=5, verbose=1, n_jobs=-1)\n",
    "\n",
    "grid_search.fit(X_train, y_train)\n",
    "\n",
    "print(grid_search.best_params_)"
   ]
  },
  {
   "cell_type": "code",
   "execution_count": 95,
   "id": "4483d1f4",
   "metadata": {},
   "outputs": [
    {
     "name": "stdout",
     "output_type": "stream",
     "text": [
      "Classification Report for the Model\n",
      "              precision    recall  f1-score   support\n",
      "\n",
      "           0       0.89      0.99      0.93       244\n",
      "           1       0.25      0.03      0.06        32\n",
      "\n",
      "    accuracy                           0.88       276\n",
      "   macro avg       0.57      0.51      0.49       276\n",
      "weighted avg       0.81      0.88      0.83       276\n",
      "\n"
     ]
    }
   ],
   "source": [
    "xgb_best = XGBClassifier(\n",
    "    colsample_bytree=0.9,\n",
    "    learning_rate=0.1,\n",
    "    max_depth=4,\n",
    "    n_estimators=150,\n",
    "    subsample=0.9,\n",
    "    random_state=10,\n",
    "    use_label_encoder=False,\n",
    "    eval_metric='logloss'\n",
    ")\n",
    "\n",
    "best_model = xgb_best.fit(X_train, y_train)\n",
    "y_pred_best = best_model.predict(X_test)\n",
    "\n",
    "print(\"Classification Report for the Model\")\n",
    "print(classification_report(y_test, y_pred_best))"
   ]
  },
  {
   "cell_type": "markdown",
   "id": "54e0303e",
   "metadata": {},
   "source": [
    "# Using the model"
   ]
  },
  {
   "cell_type": "code",
   "execution_count": 99,
   "id": "fd744731",
   "metadata": {},
   "outputs": [],
   "source": [
    "# Generating random customer to test the model\n",
    "\n",
    "customer = {\n",
    "\"gender\": \"female\",\n",
    " \"car_owner\": \"Y\",\n",
    " \"propert_owner\": \"Y\",\n",
    " \"children\": 0,\n",
    " \"type_income\": \"Commercial associate\",\n",
    " \"education\":\"Higher education\",\n",
    " \"marital_status\": \"Married\",\n",
    " \"housing_type\": \"House / apartment\",\n",
    " \"birthday_count\": -13557,\n",
    " \"work_phone\": 0,\n",
    " \"phone\": 1,\n",
    " \"email_id\": 1,\n",
    " \"type_occupation\": \"Managers\",\n",
    " \"family_members\": 2,\n",
    " \"employed_days\": -2418,\n",
    " \"Annual_income\": 95850\n",
    "}"
   ]
  },
  {
   "cell_type": "markdown",
   "id": "8d7ffe0a",
   "metadata": {},
   "source": [
    "We will display the probability of negative class, which is credit card approval in our case"
   ]
  },
  {
   "cell_type": "code",
   "execution_count": 101,
   "id": "79bddf3d",
   "metadata": {},
   "outputs": [
    {
     "data": {
      "text/plain": [
       "0.9399257"
      ]
     },
     "execution_count": 101,
     "metadata": {},
     "output_type": "execute_result"
    }
   ],
   "source": [
    "test = dv.transform([customer])\n",
    "best_model.predict_proba(test)[0, 0] \n",
    "# using the notation [0, 0] to retrieve the probability of the negative class"
   ]
  },
  {
   "cell_type": "markdown",
   "id": "442a08ec",
   "metadata": {},
   "source": [
    "# Saving and loading the model"
   ]
  },
  {
   "cell_type": "code",
   "execution_count": 102,
   "id": "8b6ab522",
   "metadata": {},
   "outputs": [],
   "source": [
    "import pickle"
   ]
  },
  {
   "cell_type": "code",
   "execution_count": 107,
   "id": "d504b8bf",
   "metadata": {},
   "outputs": [],
   "source": [
    "with open('project.bin', 'wb') as f_out:\n",
    "    pickle.dump((dv, best_model), f_out)"
   ]
  },
  {
   "cell_type": "code",
   "execution_count": 108,
   "id": "e21d012c",
   "metadata": {},
   "outputs": [],
   "source": [
    "with open('project.bin', 'rb') as f_in:\n",
    "    dv, best_model = pickle.load(f_in)"
   ]
  },
  {
   "cell_type": "code",
   "execution_count": 109,
   "id": "65d5d833",
   "metadata": {},
   "outputs": [
    {
     "data": {
      "text/plain": [
       "(DictVectorizer(sparse=False),\n",
       " XGBClassifier(base_score=None, booster=None, callbacks=None,\n",
       "               colsample_bylevel=None, colsample_bynode=None,\n",
       "               colsample_bytree=0.9, device=None, early_stopping_rounds=None,\n",
       "               enable_categorical=False, eval_metric='logloss',\n",
       "               feature_types=None, gamma=None, grow_policy=None,\n",
       "               importance_type=None, interaction_constraints=None,\n",
       "               learning_rate=0.1, max_bin=None, max_cat_threshold=None,\n",
       "               max_cat_to_onehot=None, max_delta_step=None, max_depth=4,\n",
       "               max_leaves=None, min_child_weight=None, missing=nan,\n",
       "               monotone_constraints=None, multi_strategy=None, n_estimators=150,\n",
       "               n_jobs=None, num_parallel_tree=None, random_state=10, ...))"
      ]
     },
     "execution_count": 109,
     "metadata": {},
     "output_type": "execute_result"
    }
   ],
   "source": [
    "dv, best_model"
   ]
  },
  {
   "cell_type": "markdown",
   "id": "9fbf6cb8",
   "metadata": {},
   "source": [
    "# Conclusion\n",
    "\n",
    "Throughout this project, we successfully managed and processed the dataset, addressing missing data and outliers. Utilizing both logistic regression and tree-based models, we effectively handled categorical and numerical data through one-hot encoding. By mitigating the challenges of imbalanced data, tuning hyperparameters, and deploying the model, we were able to achieve a comprehensive and robust solution for the task at hand."
   ]
  },
  {
   "cell_type": "code",
   "execution_count": null,
   "id": "fe22ba11",
   "metadata": {},
   "outputs": [],
   "source": []
  }
 ],
 "metadata": {
  "kernelspec": {
   "display_name": "Python 3 (ipykernel)",
   "language": "python",
   "name": "python3"
  },
  "language_info": {
   "codemirror_mode": {
    "name": "ipython",
    "version": 3
   },
   "file_extension": ".py",
   "mimetype": "text/x-python",
   "name": "python",
   "nbconvert_exporter": "python",
   "pygments_lexer": "ipython3",
   "version": "3.11.5"
  }
 },
 "nbformat": 4,
 "nbformat_minor": 5
}
