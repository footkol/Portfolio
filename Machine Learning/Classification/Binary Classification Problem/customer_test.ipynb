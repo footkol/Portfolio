{
 "cells": [
  {
   "cell_type": "code",
   "execution_count": 5,
   "id": "cd56b16b",
   "metadata": {},
   "outputs": [],
   "source": [
    "import requests\n",
    "import json"
   ]
  },
  {
   "cell_type": "code",
   "execution_count": 6,
   "id": "d70c2fd6",
   "metadata": {},
   "outputs": [],
   "source": [
    "url = 'http://localhost:9696/predict'"
   ]
  },
  {
   "cell_type": "code",
   "execution_count": 10,
   "id": "3adc3a84",
   "metadata": {},
   "outputs": [],
   "source": [
    "# Generating random customer to test the model\n",
    "\n",
    "customer = {\n",
    "\"gender\": \"female\",\n",
    " \"car_owner\": \"Y\",\n",
    " \"propert_owner\": \"Y\",\n",
    " \"children\": 0,\n",
    " \"type_income\": \"Commercial associate\",\n",
    " \"education\":\"Higher education\",\n",
    " \"marital_status\": \"Married\",\n",
    " \"housing_type\": \"House / apartment\",\n",
    " \"birthday_count\": -13557,\n",
    " \"work_phone\": 0,\n",
    " \"phone\": 1,\n",
    " \"email_id\": 1,\n",
    " \"type_occupation\": \"Managers\",\n",
    " \"family_members\": 2,\n",
    " \"employed_days\": -2418,\n",
    " \"Annual_income\": 95850\n",
    "}"
   ]
  },
  {
   "cell_type": "code",
   "execution_count": 11,
   "id": "39f3eb89",
   "metadata": {},
   "outputs": [
    {
     "data": {
      "text/plain": [
       "<Response [200]>"
      ]
     },
     "execution_count": 11,
     "metadata": {},
     "output_type": "execute_result"
    }
   ],
   "source": [
    "response = requests.post(url, json=customer) \n",
    "response"
   ]
  },
  {
   "cell_type": "code",
   "execution_count": 12,
   "id": "0fb590a4",
   "metadata": {},
   "outputs": [
    {
     "data": {
      "text/plain": [
       "{'approval': True, 'approval_probability': 0.06007435545325279}"
      ]
     },
     "execution_count": 12,
     "metadata": {},
     "output_type": "execute_result"
    }
   ],
   "source": [
    "result = response.json()\n",
    "result"
   ]
  },
  {
   "cell_type": "code",
   "execution_count": 13,
   "id": "804fb262",
   "metadata": {},
   "outputs": [
    {
     "name": "stdout",
     "output_type": "stream",
     "text": [
      "{\n",
      "  \"approval\": true,\n",
      "  \"approval_probability\": 0.06007435545325279\n",
      "}\n"
     ]
    }
   ],
   "source": [
    "print(json.dumps(result, indent=2))"
   ]
  },
  {
   "cell_type": "code",
   "execution_count": null,
   "id": "4858e9d5",
   "metadata": {},
   "outputs": [],
   "source": []
  }
 ],
 "metadata": {
  "kernelspec": {
   "display_name": "Python 3 (ipykernel)",
   "language": "python",
   "name": "python3"
  },
  "language_info": {
   "codemirror_mode": {
    "name": "ipython",
    "version": 3
   },
   "file_extension": ".py",
   "mimetype": "text/x-python",
   "name": "python",
   "nbconvert_exporter": "python",
   "pygments_lexer": "ipython3",
   "version": "3.11.5"
  }
 },
 "nbformat": 4,
 "nbformat_minor": 5
}
